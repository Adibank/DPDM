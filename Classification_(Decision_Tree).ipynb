{
  "nbformat": 4,
  "nbformat_minor": 0,
  "metadata": {
    "colab": {
      "name": "Classification (Decision Tree).ipynb",
      "provenance": [],
      "authorship_tag": "ABX9TyOM5M7tJTuIOd3ZR7dI3drU",
      "include_colab_link": true
    },
    "kernelspec": {
      "name": "python3",
      "display_name": "Python 3"
    }
  },
  "cells": [
    {
      "cell_type": "markdown",
      "metadata": {
        "id": "view-in-github",
        "colab_type": "text"
      },
      "source": [
        "<a href=\"https://colab.research.google.com/github/Adibank/DPDM/blob/master/Classification_(Decision_Tree).ipynb\" target=\"_parent\"><img src=\"https://colab.research.google.com/assets/colab-badge.svg\" alt=\"Open In Colab\"/></a>"
      ]
    },
    {
      "cell_type": "markdown",
      "metadata": {
        "id": "4HqS8hQMOC2Y"
      },
      "source": [
        "# Load Data"
      ]
    },
    {
      "cell_type": "code",
      "metadata": {
        "id": "mw5M-86TOA-i"
      },
      "source": [
        "from sklearn import datasets\n",
        "iris_data = datasets.load_iris()\n",
        "X = iris_data['data']\n",
        "y = iris_data['target']"
      ],
      "execution_count": 20,
      "outputs": []
    },
    {
      "cell_type": "markdown",
      "metadata": {
        "id": "mOuctxarOdDC"
      },
      "source": [
        "# Decision Tree"
      ]
    },
    {
      "cell_type": "code",
      "metadata": {
        "id": "XgYOHLytQNTd"
      },
      "source": [
        ""
      ],
      "execution_count": 20,
      "outputs": []
    },
    {
      "cell_type": "markdown",
      "metadata": {
        "id": "pNhZGfexPVxW"
      },
      "source": [
        "# Import"
      ]
    },
    {
      "cell_type": "code",
      "metadata": {
        "id": "Fmhwhe8-O4f_"
      },
      "source": [
        "from sklearn.tree import DecisionTreeClassifier"
      ],
      "execution_count": 21,
      "outputs": []
    },
    {
      "cell_type": "markdown",
      "metadata": {
        "id": "Zq5vo1n1P63e"
      },
      "source": [
        "# Define"
      ]
    },
    {
      "cell_type": "code",
      "metadata": {
        "id": "J6r2fFRrP82f"
      },
      "source": [
        "myTree = DecisionTreeClassifier(criterion='entropy',max_depth=2)"
      ],
      "execution_count": 22,
      "outputs": []
    },
    {
      "cell_type": "markdown",
      "metadata": {
        "id": "1RgxtEz3QHj_"
      },
      "source": [
        "# Train"
      ]
    },
    {
      "cell_type": "code",
      "metadata": {
        "id": "QoQpkYc2QJpm",
        "outputId": "73933029-011d-495b-8b50-fd36759acd72",
        "colab": {
          "base_uri": "https://localhost:8080/"
        }
      },
      "source": [
        "myTree.fit(X[:-2,:],y[:-2])"
      ],
      "execution_count": 23,
      "outputs": [
        {
          "output_type": "execute_result",
          "data": {
            "text/plain": [
              "DecisionTreeClassifier(ccp_alpha=0.0, class_weight=None, criterion='entropy',\n",
              "                       max_depth=2, max_features=None, max_leaf_nodes=None,\n",
              "                       min_impurity_decrease=0.0, min_impurity_split=None,\n",
              "                       min_samples_leaf=1, min_samples_split=2,\n",
              "                       min_weight_fraction_leaf=0.0, presort='deprecated',\n",
              "                       random_state=None, splitter='best')"
            ]
          },
          "metadata": {
            "tags": []
          },
          "execution_count": 23
        }
      ]
    },
    {
      "cell_type": "markdown",
      "metadata": {
        "id": "8GXLte3bQuSW"
      },
      "source": [
        "# Test"
      ]
    },
    {
      "cell_type": "code",
      "metadata": {
        "id": "CczoQHA0Qwuu",
        "outputId": "ab9c8915-132e-4a57-d95e-decce74d0739",
        "colab": {
          "base_uri": "https://localhost:8080/"
        }
      },
      "source": [
        "myTree.predict(X[-2:,:])"
      ],
      "execution_count": 24,
      "outputs": [
        {
          "output_type": "execute_result",
          "data": {
            "text/plain": [
              "array([2, 2])"
            ]
          },
          "metadata": {
            "tags": []
          },
          "execution_count": 24
        }
      ]
    },
    {
      "cell_type": "markdown",
      "metadata": {
        "id": "MxI1_7JxQ6Pd"
      },
      "source": [
        "# Draw Tree"
      ]
    },
    {
      "cell_type": "code",
      "metadata": {
        "id": "Ou9RDkMIQ8JV"
      },
      "source": [
        "from sklearn.tree import plot_tree"
      ],
      "execution_count": 25,
      "outputs": []
    },
    {
      "cell_type": "code",
      "metadata": {
        "id": "cX0NtKOERBWV",
        "outputId": "4f424974-a5f1-4e53-ce9a-4a47e8284e8c",
        "colab": {
          "base_uri": "https://localhost:8080/",
          "height": 248
        }
      },
      "source": [
        "plot_tree(myTree); #กรอบสี่เหลี่ยมด้านล่างซ้ายมือคือ Yes ขวามือคือ No"
      ],
      "execution_count": 26,
      "outputs": [
        {
          "output_type": "display_data",
          "data": {
            "image/png": "[encoded data removed]",
            "text/plain": [
              "<Figure size 432x288 with 1 Axes>"
            ]
          },
          "metadata": {
            "tags": [],
            "needs_background": "light"
          }
        }
      ]
    },
    {
      "cell_type": "code",
      "metadata": {
        "id": "CMYtG2vSRL2f",
        "outputId": "97ea02d7-d402-4460-ef75-c5054ab4b20f",
        "colab": {
          "base_uri": "https://localhost:8080/"
        }
      },
      "source": [
        "X[-2:,:] #ถ้าเอาข้อมูลด้านล่างนี้แถวแรกไปใส่ในกล่องการวิเคราะห์ด้านบน แถวที่ 1 จะได้ว่า 5.4 > 2.45 ดังนั้นบรรทัดที่ 2 ได้กล่องฝั่งขวามือ จากนั้นในบรรทัดที่ 2 ของกล่องขวามือระบุว่า X[3]<=1.75 \n",
        "#แต่แถวที่ 1 X[3]=2.3 ไม่น้อยกว่าหรือเท่ากับ 1.75 ดังนั้นจะได้บรรทัดที่ 3 คือกล่องขวามือ และอ่านค่า value = [0,1,43] หมายความว่า มีคลาส 0 อยู่ 1 คลาส 1 อยู่ 1 และคลาส 2 อยู่ 43"
      ],
      "execution_count": 27,
      "outputs": [
        {
          "output_type": "execute_result",
          "data": {
            "text/plain": [
              "array([[6.2, 3.4, 5.4, 2.3],\n",
              "       [5.9, 3. , 5.1, 1.8]])"
            ]
          },
          "metadata": {
            "tags": []
          },
          "execution_count": 27
        }
      ]
    },
    {
      "cell_type": "code",
      "metadata": {
        "id": "7t1NzKcLTpJ3"
      },
      "source": [
        "myTree = DecisionTreeClassifier()#criterion='entropy',max_depth=2"
      ],
      "execution_count": 28,
      "outputs": []
    },
    {
      "cell_type": "code",
      "metadata": {
        "id": "MIWL3I4BT3GD",
        "outputId": "38e27e12-1768-4a29-9097-78e6a242ce71",
        "colab": {
          "base_uri": "https://localhost:8080/"
        }
      },
      "source": [
        "myTree.fit(X[:-2,:],y[:-2])"
      ],
      "execution_count": 29,
      "outputs": [
        {
          "output_type": "execute_result",
          "data": {
            "text/plain": [
              "DecisionTreeClassifier(ccp_alpha=0.0, class_weight=None, criterion='gini',\n",
              "                       max_depth=None, max_features=None, max_leaf_nodes=None,\n",
              "                       min_impurity_decrease=0.0, min_impurity_split=None,\n",
              "                       min_samples_leaf=1, min_samples_split=2,\n",
              "                       min_weight_fraction_leaf=0.0, presort='deprecated',\n",
              "                       random_state=None, splitter='best')"
            ]
          },
          "metadata": {
            "tags": []
          },
          "execution_count": 29
        }
      ]
    },
    {
      "cell_type": "code",
      "metadata": {
        "id": "D-urwNusT3PN",
        "outputId": "d343aa52-0eb1-45c1-c44f-6959bbb1c806",
        "colab": {
          "base_uri": "https://localhost:8080/"
        }
      },
      "source": [
        "myTree.predict(X[-2:,:])"
      ],
      "execution_count": 30,
      "outputs": [
        {
          "output_type": "execute_result",
          "data": {
            "text/plain": [
              "array([2, 2])"
            ]
          },
          "metadata": {
            "tags": []
          },
          "execution_count": 30
        }
      ]
    },
    {
      "cell_type": "code",
      "metadata": {
        "id": "Db0zdBMaT290"
      },
      "source": [
        "from sklearn.tree import plot_tree"
      ],
      "execution_count": 31,
      "outputs": []
    },
    {
      "cell_type": "code",
      "metadata": {
        "id": "TE52qc43T_50",
        "outputId": "3c0064cd-43e8-481e-8257-320f9126f2d3",
        "colab": {
          "base_uri": "https://localhost:8080/",
          "height": 248
        }
      },
      "source": [
        "plot_tree(myTree);"
      ],
      "execution_count": 32,
      "outputs": [
        {
          "output_type": "display_data",
          "data": {
            "image/png": "[encoded data removed]",
            "text/plain": [
              "<Figure size 432x288 with 1 Axes>"
            ]
          },
          "metadata": {
            "tags": [],
            "needs_background": "light"
          }
        }
      ]
    }
  ]
}