{
  "nbformat": 4,
  "nbformat_minor": 0,
  "metadata": {
    "colab": {
      "name": "Data103 Distance.ipynb",
      "provenance": [],
      "authorship_tag": "ABX9TyMkM06xUJgDScUHhVzETvRg",
      "include_colab_link": true
    },
    "kernelspec": {
      "name": "python3",
      "display_name": "Python 3"
    }
  },
  "cells": [
    {
      "cell_type": "markdown",
      "metadata": {
        "id": "view-in-github",
        "colab_type": "text"
      },
      "source": [
        "<a href=\"https://colab.research.google.com/github/Adibank/DPDM/blob/master/Data103_Distance.ipynb\" target=\"_parent\"><img src=\"https://colab.research.google.com/assets/colab-badge.svg\" alt=\"Open In Colab\"/></a>"
      ]
    },
    {
      "cell_type": "code",
      "metadata": {
        "id": "hF-5-txqvpsq",
        "colab_type": "code",
        "colab": {}
      },
      "source": [
        "import numpy as np #library เกี่ยวกับตัวเลข"
      ],
      "execution_count": null,
      "outputs": []
    },
    {
      "cell_type": "code",
      "metadata": {
        "id": "MYY_HGZNwE68",
        "colab_type": "code",
        "colab": {
          "base_uri": "https://localhost:8080/",
          "height": 51
        },
        "outputId": "4f47e5fb-ed64-4737-c658-e457bf85897a"
      },
      "source": [
        "A = np.array([[1,2,3],[4,5,6]])\n",
        "A"
      ],
      "execution_count": null,
      "outputs": [
        {
          "output_type": "execute_result",
          "data": {
            "text/plain": [
              "array([[1, 2, 3],\n",
              "       [4, 5, 6]])"
            ]
          },
          "metadata": {
            "tags": []
          },
          "execution_count": 4
        }
      ]
    },
    {
      "cell_type": "code",
      "metadata": {
        "id": "U2MLpfPkwWzo",
        "colab_type": "code",
        "colab": {
          "base_uri": "https://localhost:8080/",
          "height": 68
        },
        "outputId": "fb4d42d7-b88d-4697-a6a3-5f0f194ab8d5"
      },
      "source": [
        "A.T #ทรานสโพทแมททริกซ์"
      ],
      "execution_count": null,
      "outputs": [
        {
          "output_type": "execute_result",
          "data": {
            "text/plain": [
              "array([[1, 4],\n",
              "       [2, 5],\n",
              "       [3, 6]])"
            ]
          },
          "metadata": {
            "tags": []
          },
          "execution_count": 5
        }
      ]
    },
    {
      "cell_type": "code",
      "metadata": {
        "id": "w_Ak-t8YwWvg",
        "colab_type": "code",
        "colab": {
          "base_uri": "https://localhost:8080/",
          "height": 51
        },
        "outputId": "dccd4994-a683-4386-e8a1-04f6102dc547"
      },
      "source": [
        "A.dot(A.T) #แมททริกซ์ A คูณกับแมททริกซ์ A ทรานสโพท"
      ],
      "execution_count": null,
      "outputs": [
        {
          "output_type": "execute_result",
          "data": {
            "text/plain": [
              "array([[14, 32],\n",
              "       [32, 77]])"
            ]
          },
          "metadata": {
            "tags": []
          },
          "execution_count": 6
        }
      ]
    },
    {
      "cell_type": "markdown",
      "metadata": {
        "id": "jqmLzwEXxQQB",
        "colab_type": "text"
      },
      "source": [
        "# Array slicing"
      ]
    },
    {
      "cell_type": "code",
      "metadata": {
        "id": "bsFBEBqEwWsY",
        "colab_type": "code",
        "colab": {
          "base_uri": "https://localhost:8080/",
          "height": 34
        },
        "outputId": "c80568ad-fd13-4f4b-9c6c-9afd44fec584"
      },
      "source": [
        "A[0,1] #[แถวที่...,หลักที่...]"
      ],
      "execution_count": null,
      "outputs": [
        {
          "output_type": "execute_result",
          "data": {
            "text/plain": [
              "2"
            ]
          },
          "metadata": {
            "tags": []
          },
          "execution_count": 9
        }
      ]
    },
    {
      "cell_type": "code",
      "metadata": {
        "id": "UhEuM5RhwWpg",
        "colab_type": "code",
        "colab": {}
      },
      "source": [
        "A[:,:2] #เอามาทุกแถว,เอาตั้งแต่หลักแรกจนถึงหลักที่2"
      ],
      "execution_count": null,
      "outputs": []
    },
    {
      "cell_type": "code",
      "metadata": {
        "id": "HXLZrvAGwWm2",
        "colab_type": "code",
        "colab": {
          "base_uri": "https://localhost:8080/",
          "height": 34
        },
        "outputId": "f5372f43-9db5-4368-da84-104002362db5"
      },
      "source": [
        "A[1,1:]"
      ],
      "execution_count": null,
      "outputs": [
        {
          "output_type": "execute_result",
          "data": {
            "text/plain": [
              "array([5, 6])"
            ]
          },
          "metadata": {
            "tags": []
          },
          "execution_count": 17
        }
      ]
    },
    {
      "cell_type": "code",
      "metadata": {
        "id": "6_8o1btS0Mzw",
        "colab_type": "code",
        "colab": {
          "base_uri": "https://localhost:8080/",
          "height": 85
        },
        "outputId": "4cef344b-d43d-41ae-d300-7569817d0a37"
      },
      "source": [
        "data1 = np.array([[1,2],[3,5],[2,0],[4,5]])\n",
        "data1"
      ],
      "execution_count": null,
      "outputs": [
        {
          "output_type": "execute_result",
          "data": {
            "text/plain": [
              "array([[1, 2],\n",
              "       [3, 5],\n",
              "       [2, 0],\n",
              "       [4, 5]])"
            ]
          },
          "metadata": {
            "tags": []
          },
          "execution_count": 40
        }
      ]
    },
    {
      "cell_type": "code",
      "metadata": {
        "id": "xVmfcAYY0lo4",
        "colab_type": "code",
        "colab": {}
      },
      "source": [
        "def Manhattan_dist(dp1,dp2):\n",
        "  distX = abs(dp1[0]-dp2[0])\n",
        "  distY = abs(dp1[1]-dp2[1])\n",
        "  return distX + distY"
      ],
      "execution_count": null,
      "outputs": []
    },
    {
      "cell_type": "code",
      "metadata": {
        "id": "nlhztt9v1J5H",
        "colab_type": "code",
        "colab": {
          "base_uri": "https://localhost:8080/",
          "height": 85
        },
        "outputId": "279128de-af9b-4f02-b601-e9eb2ba96c8d"
      },
      "source": [
        "np.zeros((4,4)) #สร้าง array เปล่า"
      ],
      "execution_count": null,
      "outputs": [
        {
          "output_type": "execute_result",
          "data": {
            "text/plain": [
              "array([[0., 0., 0., 0.],\n",
              "       [0., 0., 0., 0.],\n",
              "       [0., 0., 0., 0.],\n",
              "       [0., 0., 0., 0.]])"
            ]
          },
          "metadata": {
            "tags": []
          },
          "execution_count": 27
        }
      ]
    },
    {
      "cell_type": "code",
      "metadata": {
        "id": "bPtEMzyh12wd",
        "colab_type": "code",
        "colab": {
          "base_uri": "https://localhost:8080/",
          "height": 85
        },
        "outputId": "a5891661-67dc-457d-91ee-4b9800bff281"
      },
      "source": [
        "np.ones((4,4))"
      ],
      "execution_count": null,
      "outputs": [
        {
          "output_type": "execute_result",
          "data": {
            "text/plain": [
              "array([[1., 1., 1., 1.],\n",
              "       [1., 1., 1., 1.],\n",
              "       [1., 1., 1., 1.],\n",
              "       [1., 1., 1., 1.]])"
            ]
          },
          "metadata": {
            "tags": []
          },
          "execution_count": 28
        }
      ]
    },
    {
      "cell_type": "code",
      "metadata": {
        "id": "nrfbUPUt1-qt",
        "colab_type": "code",
        "colab": {
          "base_uri": "https://localhost:8080/",
          "height": 85
        },
        "outputId": "050de041-b139-42a3-bc18-b6c0eb2ff435"
      },
      "source": [
        "7*np.ones((4,4)) #7 มาคูณ แมททริกซ์"
      ],
      "execution_count": null,
      "outputs": [
        {
          "output_type": "execute_result",
          "data": {
            "text/plain": [
              "array([[7., 7., 7., 7.],\n",
              "       [7., 7., 7., 7.],\n",
              "       [7., 7., 7., 7.],\n",
              "       [7., 7., 7., 7.]])"
            ]
          },
          "metadata": {
            "tags": []
          },
          "execution_count": 29
        }
      ]
    },
    {
      "cell_type": "code",
      "metadata": {
        "id": "pXo09-M52Iue",
        "colab_type": "code",
        "colab": {
          "base_uri": "https://localhost:8080/",
          "height": 85
        },
        "outputId": "8b3044fa-9b36-40d1-cfed-8719719c0e99"
      },
      "source": [
        "dist_mat_man = np.zeros((4,4))\n",
        "dist_mat_man"
      ],
      "execution_count": null,
      "outputs": [
        {
          "output_type": "execute_result",
          "data": {
            "text/plain": [
              "array([[0., 0., 0., 0.],\n",
              "       [0., 0., 0., 0.],\n",
              "       [0., 0., 0., 0.],\n",
              "       [0., 0., 0., 0.]])"
            ]
          },
          "metadata": {
            "tags": []
          },
          "execution_count": 30
        }
      ]
    },
    {
      "cell_type": "code",
      "metadata": {
        "id": "Vddm3Us12T0V",
        "colab_type": "code",
        "colab": {
          "base_uri": "https://localhost:8080/",
          "height": 85
        },
        "outputId": "e39801e4-269a-404b-e6f2-15b5dd9a38f2"
      },
      "source": [
        "for i in range(4):\n",
        "  for j in range(4):\n",
        "      dist_mat_man[i,j] = Manhattan_dist(data1[i,:],data1[j,:])\n",
        "\n",
        "dist_mat_man"
      ],
      "execution_count": null,
      "outputs": [
        {
          "output_type": "execute_result",
          "data": {
            "text/plain": [
              "array([[0., 5., 3., 6.],\n",
              "       [5., 0., 6., 1.],\n",
              "       [3., 6., 0., 7.],\n",
              "       [6., 1., 7., 0.]])"
            ]
          },
          "metadata": {
            "tags": []
          },
          "execution_count": 42
        }
      ]
    },
    {
      "cell_type": "markdown",
      "metadata": {
        "id": "oulcDhW1zYJ5",
        "colab_type": "text"
      },
      "source": [
        "# HW6 สร้าง  Distance metrix (Euclidean) ของ data matrix ใน slides โดยสร้าง function สำหรับคำนวณ Euclidean Distance"
      ]
    },
    {
      "cell_type": "code",
      "metadata": {
        "id": "C7yR2B8NwWkA",
        "colab_type": "code",
        "colab": {}
      },
      "source": [
        "import numpy as np\n",
        "import math  "
      ],
      "execution_count": null,
      "outputs": []
    },
    {
      "cell_type": "code",
      "metadata": {
        "id": "_u1dWNi9wWhZ",
        "colab_type": "code",
        "colab": {}
      },
      "source": [
        "data2 = np.array([[1,2],[3,5],[2,0],[4,5]])"
      ],
      "execution_count": null,
      "outputs": []
    },
    {
      "cell_type": "code",
      "metadata": {
        "id": "pIlIknFMwWel",
        "colab_type": "code",
        "colab": {
          "base_uri": "https://localhost:8080/",
          "height": 85
        },
        "outputId": "3c014776-fae7-4732-9bd2-aa6f805aa7ed"
      },
      "source": [
        "data2"
      ],
      "execution_count": null,
      "outputs": [
        {
          "output_type": "execute_result",
          "data": {
            "text/plain": [
              "array([[1, 2],\n",
              "       [3, 5],\n",
              "       [2, 0],\n",
              "       [4, 5]])"
            ]
          },
          "metadata": {
            "tags": []
          },
          "execution_count": 91
        }
      ]
    },
    {
      "cell_type": "code",
      "metadata": {
        "id": "T5iU1OI6wWcA",
        "colab_type": "code",
        "colab": {}
      },
      "source": [
        "  def Euclidean_dist(dp1,dp2):\n",
        "    distS = abs(dp1[0]-dp2[0])\n",
        "    distT = abs(dp1[1]-dp2[1])\n",
        "    return math.sqrt(distS**2 + distT**2)"
      ],
      "execution_count": null,
      "outputs": []
    },
    {
      "cell_type": "code",
      "metadata": {
        "id": "lDZGbjFBwWZK",
        "colab_type": "code",
        "colab": {
          "base_uri": "https://localhost:8080/",
          "height": 85
        },
        "outputId": "93d009ec-b6c4-4b1f-a8f3-5a6e3e1a1d63"
      },
      "source": [
        "dist_mat_Euclidean = np.zeros((4,4))\n",
        "dist_mat_Euclidean"
      ],
      "execution_count": null,
      "outputs": [
        {
          "output_type": "execute_result",
          "data": {
            "text/plain": [
              "array([[0., 0., 0., 0.],\n",
              "       [0., 0., 0., 0.],\n",
              "       [0., 0., 0., 0.],\n",
              "       [0., 0., 0., 0.]])"
            ]
          },
          "metadata": {
            "tags": []
          },
          "execution_count": 52
        }
      ]
    },
    {
      "cell_type": "code",
      "metadata": {
        "id": "kGE8x69MwWWS",
        "colab_type": "code",
        "colab": {
          "base_uri": "https://localhost:8080/",
          "height": 85
        },
        "outputId": "49bbb3a5-5d48-4987-b799-a7065f175520"
      },
      "source": [
        "for i in range(4):\n",
        "  for j in range(4):\n",
        "      dist_mat_Euclidean[i,j] = Euclidean_dist(data2[i,:],data2[j,:])\n",
        "dist_mat_Euclidean"
      ],
      "execution_count": null,
      "outputs": [
        {
          "output_type": "execute_result",
          "data": {
            "text/plain": [
              "array([[0.        , 3.60555128, 2.23606798, 4.24264069],\n",
              "       [3.60555128, 0.        , 5.09901951, 1.        ],\n",
              "       [2.23606798, 5.09901951, 0.        , 5.38516481],\n",
              "       [4.24264069, 1.        , 5.38516481, 0.        ]])"
            ]
          },
          "metadata": {
            "tags": []
          },
          "execution_count": 93
        }
      ]
    },
    {
      "cell_type": "code",
      "metadata": {
        "id": "6b__IlUFwWTb",
        "colab_type": "code",
        "colab": {
          "base_uri": "https://localhost:8080/",
          "height": 34
        },
        "outputId": "34862b9a-ffeb-4604-e829-296b801d964b"
      },
      "source": [
        "data2[0,:] #ทด"
      ],
      "execution_count": null,
      "outputs": [
        {
          "output_type": "execute_result",
          "data": {
            "text/plain": [
              "array([1, 2])"
            ]
          },
          "metadata": {
            "tags": []
          },
          "execution_count": 94
        }
      ]
    },
    {
      "cell_type": "code",
      "metadata": {
        "id": "3piKdwIBwWQ7",
        "colab_type": "code",
        "colab": {
          "base_uri": "https://localhost:8080/",
          "height": 34
        },
        "outputId": "b721972a-5b97-4cad-d171-041225a49ee8"
      },
      "source": [
        "data2[1,:] #ทด"
      ],
      "execution_count": null,
      "outputs": [
        {
          "output_type": "execute_result",
          "data": {
            "text/plain": [
              "array([3, 5])"
            ]
          },
          "metadata": {
            "tags": []
          },
          "execution_count": 95
        }
      ]
    },
    {
      "cell_type": "code",
      "metadata": {
        "id": "onlbX1CwwWN5",
        "colab_type": "code",
        "colab": {
          "base_uri": "https://localhost:8080/",
          "height": 34
        },
        "outputId": "4a6b8900-3355-4423-cbaa-0d1f44cc1dc8"
      },
      "source": [
        "data2[0,:][0] #ทด"
      ],
      "execution_count": null,
      "outputs": [
        {
          "output_type": "execute_result",
          "data": {
            "text/plain": [
              "1"
            ]
          },
          "metadata": {
            "tags": []
          },
          "execution_count": 96
        }
      ]
    },
    {
      "cell_type": "code",
      "metadata": {
        "id": "0QIxF5gewWK6",
        "colab_type": "code",
        "colab": {
          "base_uri": "https://localhost:8080/",
          "height": 34
        },
        "outputId": "81cb283d-e0d7-482e-b7d3-043ed783c085"
      },
      "source": [
        "data2[1,:][1] #ทด"
      ],
      "execution_count": null,
      "outputs": [
        {
          "output_type": "execute_result",
          "data": {
            "text/plain": [
              "5"
            ]
          },
          "metadata": {
            "tags": []
          },
          "execution_count": 97
        }
      ]
    },
    {
      "cell_type": "markdown",
      "metadata": {
        "id": "8tvxeLMidSW6",
        "colab_type": "text"
      },
      "source": [
        "# Distance of nominal or categorical features"
      ]
    },
    {
      "cell_type": "markdown",
      "metadata": {
        "id": "BGMzNzcidjv1",
        "colab_type": "text"
      },
      "source": [
        "## (extra) Python data structure (Dictionary)"
      ]
    },
    {
      "cell_type": "code",
      "metadata": {
        "id": "RiFifd9fwWIb",
        "colab_type": "code",
        "colab": {}
      },
      "source": [
        "d_A = {'a':1,2:3,3:5,'cat':6} #ใส่ได้แค่ตัวอักษรหรือตัวเลขเท่านั้น ตัวแปรใช้ไม่ได้ {ตัวชี้ : ค่าที่เก็บ}"
      ],
      "execution_count": 1,
      "outputs": []
    },
    {
      "cell_type": "code",
      "metadata": {
        "id": "Pyu2j-RwwWFg",
        "colab_type": "code",
        "colab": {
          "base_uri": "https://localhost:8080/",
          "height": 34
        },
        "outputId": "9bd5ac34-c7d8-4c5d-fd2f-91bdc2b6bfcf"
      },
      "source": [
        "d_A"
      ],
      "execution_count": 2,
      "outputs": [
        {
          "output_type": "execute_result",
          "data": {
            "text/plain": [
              "{2: 3, 3: 5, 'a': 1, 'cat': 6}"
            ]
          },
          "metadata": {
            "tags": []
          },
          "execution_count": 2
        }
      ]
    },
    {
      "cell_type": "code",
      "metadata": {
        "id": "HYh8az5RwWCw",
        "colab_type": "code",
        "colab": {
          "base_uri": "https://localhost:8080/",
          "height": 34
        },
        "outputId": "6fc180b1-6973-4038-f362-5737c342bf06"
      },
      "source": [
        "d_A['cat']"
      ],
      "execution_count": 3,
      "outputs": [
        {
          "output_type": "execute_result",
          "data": {
            "text/plain": [
              "6"
            ]
          },
          "metadata": {
            "tags": []
          },
          "execution_count": 3
        }
      ]
    },
    {
      "cell_type": "code",
      "metadata": {
        "id": "aKhxEDX4wV_4",
        "colab_type": "code",
        "colab": {}
      },
      "source": [
        "d_A['dog'] = [1,2,3,4,5] #การเพิ่มสมาชิกใหม่เข้าไป"
      ],
      "execution_count": 6,
      "outputs": []
    },
    {
      "cell_type": "code",
      "metadata": {
        "id": "LHIHnNvIwV9R",
        "colab_type": "code",
        "colab": {
          "base_uri": "https://localhost:8080/",
          "height": 34
        },
        "outputId": "ee301d92-335e-4969-e88b-241f50873140"
      },
      "source": [
        "d_A"
      ],
      "execution_count": 7,
      "outputs": [
        {
          "output_type": "execute_result",
          "data": {
            "text/plain": [
              "{2: 3, 3: 5, 'a': 1, 'cat': 6, 'dog': [1, 2, 3, 4, 5]}"
            ]
          },
          "metadata": {
            "tags": []
          },
          "execution_count": 7
        }
      ]
    },
    {
      "cell_type": "code",
      "metadata": {
        "id": "6tCt7ZtewV6I",
        "colab_type": "code",
        "colab": {}
      },
      "source": [
        "del d_A[2] #การลบข้อมูลออกจาก dict."
      ],
      "execution_count": 9,
      "outputs": []
    },
    {
      "cell_type": "code",
      "metadata": {
        "id": "H28HRcFywV0o",
        "colab_type": "code",
        "colab": {
          "base_uri": "https://localhost:8080/",
          "height": 34
        },
        "outputId": "03a5256f-8636-4940-9b87-d0cc7f2b5e77"
      },
      "source": [
        "d_A"
      ],
      "execution_count": 10,
      "outputs": [
        {
          "output_type": "execute_result",
          "data": {
            "text/plain": [
              "{3: 5, 'a': 1, 'cat': 6, 'dog': [1, 2, 3, 4, 5]}"
            ]
          },
          "metadata": {
            "tags": []
          },
          "execution_count": 10
        }
      ]
    },
    {
      "cell_type": "code",
      "metadata": {
        "id": "FN_SMBIOwVyK",
        "colab_type": "code",
        "colab": {}
      },
      "source": [
        "import pandas as pd"
      ],
      "execution_count": 11,
      "outputs": []
    },
    {
      "cell_type": "code",
      "metadata": {
        "id": "_BcYUnnVwVvY",
        "colab_type": "code",
        "colab": {
          "base_uri": "https://localhost:8080/",
          "height": 34
        },
        "outputId": "b54dd436-9743-45eb-b2b9-e61f910edede"
      },
      "source": [
        "data_dict = {'color':['red','red','green'], #color = {'red','green','blue'}\n",
        "             'status':['single','married','single']} #status = {'single','married','disvorced'}\n",
        "data_dict"
      ],
      "execution_count": 16,
      "outputs": [
        {
          "output_type": "execute_result",
          "data": {
            "text/plain": [
              "{'color': ['red', 'red', 'green'], 'status': ['single', 'married', 'single']}"
            ]
          },
          "metadata": {
            "tags": []
          },
          "execution_count": 16
        }
      ]
    },
    {
      "cell_type": "code",
      "metadata": {
        "id": "Yhe2q-dtwVsY",
        "colab_type": "code",
        "colab": {
          "base_uri": "https://localhost:8080/",
          "height": 142
        },
        "outputId": "58f45d44-1ed5-4393-a6bd-894f2cd70cb7"
      },
      "source": [
        "data_pd = pd.DataFrame.from_dict(data_dict)\n",
        "data_pd"
      ],
      "execution_count": 14,
      "outputs": [
        {
          "output_type": "execute_result",
          "data": {
            "text/html": [
              "<div>\n",
              "<style scoped>\n",
              "    .dataframe tbody tr th:only-of-type {\n",
              "        vertical-align: middle;\n",
              "    }\n",
              "\n",
              "    .dataframe tbody tr th {\n",
              "        vertical-align: top;\n",
              "    }\n",
              "\n",
              "    .dataframe thead th {\n",
              "        text-align: right;\n",
              "    }\n",
              "</style>\n",
              "<table border=\"1\" class=\"dataframe\">\n",
              "  <thead>\n",
              "    <tr style=\"text-align: right;\">\n",
              "      <th></th>\n",
              "      <th>color</th>\n",
              "      <th>status</th>\n",
              "    </tr>\n",
              "  </thead>\n",
              "  <tbody>\n",
              "    <tr>\n",
              "      <th>0</th>\n",
              "      <td>red</td>\n",
              "      <td>single</td>\n",
              "    </tr>\n",
              "    <tr>\n",
              "      <th>1</th>\n",
              "      <td>red</td>\n",
              "      <td>married</td>\n",
              "    </tr>\n",
              "    <tr>\n",
              "      <th>2</th>\n",
              "      <td>green</td>\n",
              "      <td>single</td>\n",
              "    </tr>\n",
              "  </tbody>\n",
              "</table>\n",
              "</div>"
            ],
            "text/plain": [
              "   color   status\n",
              "0    red   single\n",
              "1    red  married\n",
              "2  green   single"
            ]
          },
          "metadata": {
            "tags": []
          },
          "execution_count": 14
        }
      ]
    },
    {
      "cell_type": "markdown",
      "metadata": {
        "id": "-2Fk-B7Gh-eQ",
        "colab_type": "text"
      },
      "source": [
        "# Categorical feature distance method#1"
      ]
    },
    {
      "cell_type": "code",
      "metadata": {
        "id": "MtDrFgEgwVpn",
        "colab_type": "code",
        "colab": {
          "base_uri": "https://localhost:8080/",
          "height": 34
        },
        "outputId": "eed0ec2e-ca59-46fc-812b-dcfdd239f5d5"
      },
      "source": [
        "list(data_pd.iloc[1,:])"
      ],
      "execution_count": 17,
      "outputs": [
        {
          "output_type": "execute_result",
          "data": {
            "text/plain": [
              "['red', 'married']"
            ]
          },
          "metadata": {
            "tags": []
          },
          "execution_count": 17
        }
      ]
    },
    {
      "cell_type": "code",
      "metadata": {
        "id": "FqiGoV9wwVmo",
        "colab_type": "code",
        "colab": {}
      },
      "source": [
        "def meth1_dist(data1,data2):\n",
        "  N = 0\n",
        "  print(f'data1 is {data1} and data2 is {data2}')\n",
        "  for i in range(len(data1)):\n",
        "    print(f'feature{i} of data1 is {data1[i]} , feature{i} of data2 is {data2[i]}')\n",
        "    if data1[i] != data2[i]:\n",
        "       N = N+1\n",
        "       print(f' {data1[i]} is not equal {data2[i]} : updated ({N})')\n",
        "    else:\n",
        "       print(f' {data1[i]} is equal {data2[i]}')\n",
        "  return N/len(data1)"
      ],
      "execution_count": 21,
      "outputs": []
    },
    {
      "cell_type": "code",
      "metadata": {
        "id": "ZdNCvDQAwVjr",
        "colab_type": "code",
        "colab": {
          "base_uri": "https://localhost:8080/",
          "height": 119
        },
        "outputId": "7961c033-5846-4f59-ef06-50d869e1b1b6"
      },
      "source": [
        "meth1_dist(list(data_pd.iloc[0,:]),list(data_pd.iloc[1,:]))"
      ],
      "execution_count": 22,
      "outputs": [
        {
          "output_type": "stream",
          "text": [
            "data1 is ['red', 'single'] and data2 is ['red', 'married']\n",
            "feature0 of data1 is red , feature0 of data2 is red\n",
            " red is equal red\n",
            "feature1 of data1 is single , feature1 of data2 is married\n",
            " single is not equal married : updated (1)\n"
          ],
          "name": "stdout"
        },
        {
          "output_type": "execute_result",
          "data": {
            "text/plain": [
              "0.5"
            ]
          },
          "metadata": {
            "tags": []
          },
          "execution_count": 22
        }
      ]
    },
    {
      "cell_type": "markdown",
      "metadata": {
        "id": "gbnOiVCKmZ5_",
        "colab_type": "text"
      },
      "source": [
        "# HW7 calculate distance matrix of data_pd using meth1_dist()"
      ]
    },
    {
      "cell_type": "code",
      "metadata": {
        "id": "DzYRnry3ooUe",
        "colab_type": "code",
        "colab": {}
      },
      "source": [
        "import numpy as np\n",
        "import math  "
      ],
      "execution_count": 46,
      "outputs": []
    },
    {
      "cell_type": "code",
      "metadata": {
        "id": "zcv9_r0BwVdg",
        "colab_type": "code",
        "colab": {}
      },
      "source": [
        "def meth1_dist(data1,data2):\n",
        "  N = 0\n",
        "  print(f'data1 is {data1} and data2 is {data2}')\n",
        "  for i in range(len(data1)):\n",
        "    print(f'feature{i} of data1 is {data1[i]} , feature{i} of data2 is {data2[i]}')\n",
        "    if data1[i] != data2[i]:\n",
        "       N = N+1\n",
        "       print(f' {data1[i]} is not equal {data2[i]} : updated ({N})')\n",
        "    else:\n",
        "       print(f' {data1[i]} is equal {data2[i]}')\n",
        "  return N/len(data1)"
      ],
      "execution_count": 48,
      "outputs": []
    },
    {
      "cell_type": "code",
      "metadata": {
        "id": "FzWoEHYzwVag",
        "colab_type": "code",
        "colab": {
          "base_uri": "https://localhost:8080/",
          "height": 68
        },
        "outputId": "670322a8-9564-477e-ae5f-0ca52216219f"
      },
      "source": [
        "dist_mat_data_pd = np.zeros((3,3))\n",
        "dist_mat_data_pd"
      ],
      "execution_count": 49,
      "outputs": [
        {
          "output_type": "execute_result",
          "data": {
            "text/plain": [
              "array([[0., 0., 0.],\n",
              "       [0., 0., 0.],\n",
              "       [0., 0., 0.]])"
            ]
          },
          "metadata": {
            "tags": []
          },
          "execution_count": 49
        }
      ]
    },
    {
      "cell_type": "code",
      "metadata": {
        "id": "oXIyc5f8wVXQ",
        "colab_type": "code",
        "colab": {
          "base_uri": "https://localhost:8080/",
          "height": 833
        },
        "outputId": "d5fbc6fc-4f89-4d97-a96f-7e4139cabeb3"
      },
      "source": [
        "for i in range(3):\n",
        "  for j in range(3):\n",
        "      dist_mat_data_pd[i,j] = meth1_dist(list(data_pd.iloc[i,:]),list(data_pd.iloc[j,:]))\n",
        "\n",
        "dist_mat_data_pd"
      ],
      "execution_count": 50,
      "outputs": [
        {
          "output_type": "stream",
          "text": [
            "data1 is ['red', 'single'] and data2 is ['red', 'single']\n",
            "feature0 of data1 is red , feature0 of data2 is red\n",
            " red is equal red\n",
            "feature1 of data1 is single , feature1 of data2 is single\n",
            " single is equal single\n",
            "data1 is ['red', 'single'] and data2 is ['red', 'married']\n",
            "feature0 of data1 is red , feature0 of data2 is red\n",
            " red is equal red\n",
            "feature1 of data1 is single , feature1 of data2 is married\n",
            " single is not equal married : updated (1)\n",
            "data1 is ['red', 'single'] and data2 is ['green', 'single']\n",
            "feature0 of data1 is red , feature0 of data2 is green\n",
            " red is not equal green : updated (1)\n",
            "feature1 of data1 is single , feature1 of data2 is single\n",
            " single is equal single\n",
            "data1 is ['red', 'married'] and data2 is ['red', 'single']\n",
            "feature0 of data1 is red , feature0 of data2 is red\n",
            " red is equal red\n",
            "feature1 of data1 is married , feature1 of data2 is single\n",
            " married is not equal single : updated (1)\n",
            "data1 is ['red', 'married'] and data2 is ['red', 'married']\n",
            "feature0 of data1 is red , feature0 of data2 is red\n",
            " red is equal red\n",
            "feature1 of data1 is married , feature1 of data2 is married\n",
            " married is equal married\n",
            "data1 is ['red', 'married'] and data2 is ['green', 'single']\n",
            "feature0 of data1 is red , feature0 of data2 is green\n",
            " red is not equal green : updated (1)\n",
            "feature1 of data1 is married , feature1 of data2 is single\n",
            " married is not equal single : updated (2)\n",
            "data1 is ['green', 'single'] and data2 is ['red', 'single']\n",
            "feature0 of data1 is green , feature0 of data2 is red\n",
            " green is not equal red : updated (1)\n",
            "feature1 of data1 is single , feature1 of data2 is single\n",
            " single is equal single\n",
            "data1 is ['green', 'single'] and data2 is ['red', 'married']\n",
            "feature0 of data1 is green , feature0 of data2 is red\n",
            " green is not equal red : updated (1)\n",
            "feature1 of data1 is single , feature1 of data2 is married\n",
            " single is not equal married : updated (2)\n",
            "data1 is ['green', 'single'] and data2 is ['green', 'single']\n",
            "feature0 of data1 is green , feature0 of data2 is green\n",
            " green is equal green\n",
            "feature1 of data1 is single , feature1 of data2 is single\n",
            " single is equal single\n"
          ],
          "name": "stdout"
        },
        {
          "output_type": "execute_result",
          "data": {
            "text/plain": [
              "array([[0. , 0.5, 0.5],\n",
              "       [0.5, 0. , 1. ],\n",
              "       [0.5, 1. , 0. ]])"
            ]
          },
          "metadata": {
            "tags": []
          },
          "execution_count": 50
        }
      ]
    },
    {
      "cell_type": "markdown",
      "metadata": {
        "id": "FPaBOIiqrriE",
        "colab_type": "text"
      },
      "source": [
        "# Categorical feature distance method#2"
      ]
    },
    {
      "cell_type": "code",
      "metadata": {
        "id": "W5xv9TWGsjTk",
        "colab_type": "code",
        "colab": {
          "base_uri": "https://localhost:8080/",
          "height": 173
        },
        "outputId": "b7020739-9604-43ef-a0d2-6b0e9b15cc27"
      },
      "source": [
        "data_dict2 = {'color':['red','red','green','blue'], #color = {'red','green','blue'}\n",
        "             'status':['single','married','single','disvorced']} #status = {'single','married','disvorced'}\n",
        "data_pd2 = pd.DataFrame.from_dict(data_dict2)\n",
        "data_pd2"
      ],
      "execution_count": 56,
      "outputs": [
        {
          "output_type": "execute_result",
          "data": {
            "text/html": [
              "<div>\n",
              "<style scoped>\n",
              "    .dataframe tbody tr th:only-of-type {\n",
              "        vertical-align: middle;\n",
              "    }\n",
              "\n",
              "    .dataframe tbody tr th {\n",
              "        vertical-align: top;\n",
              "    }\n",
              "\n",
              "    .dataframe thead th {\n",
              "        text-align: right;\n",
              "    }\n",
              "</style>\n",
              "<table border=\"1\" class=\"dataframe\">\n",
              "  <thead>\n",
              "    <tr style=\"text-align: right;\">\n",
              "      <th></th>\n",
              "      <th>color</th>\n",
              "      <th>status</th>\n",
              "    </tr>\n",
              "  </thead>\n",
              "  <tbody>\n",
              "    <tr>\n",
              "      <th>0</th>\n",
              "      <td>red</td>\n",
              "      <td>single</td>\n",
              "    </tr>\n",
              "    <tr>\n",
              "      <th>1</th>\n",
              "      <td>red</td>\n",
              "      <td>married</td>\n",
              "    </tr>\n",
              "    <tr>\n",
              "      <th>2</th>\n",
              "      <td>green</td>\n",
              "      <td>single</td>\n",
              "    </tr>\n",
              "    <tr>\n",
              "      <th>3</th>\n",
              "      <td>blue</td>\n",
              "      <td>disvorced</td>\n",
              "    </tr>\n",
              "  </tbody>\n",
              "</table>\n",
              "</div>"
            ],
            "text/plain": [
              "   color     status\n",
              "0    red     single\n",
              "1    red    married\n",
              "2  green     single\n",
              "3   blue  disvorced"
            ]
          },
          "metadata": {
            "tags": []
          },
          "execution_count": 56
        }
      ]
    },
    {
      "cell_type": "code",
      "metadata": {
        "id": "dJD5gxEKwVUQ",
        "colab_type": "code",
        "colab": {
          "base_uri": "https://localhost:8080/",
          "height": 173
        },
        "outputId": "e4705bd2-c81d-4581-f81c-bbebfc9e35d6"
      },
      "source": [
        "data_pd_binary = pd.get_dummies(data_pd2)\n",
        "data_pd_binary "
      ],
      "execution_count": 58,
      "outputs": [
        {
          "output_type": "execute_result",
          "data": {
            "text/html": [
              "<div>\n",
              "<style scoped>\n",
              "    .dataframe tbody tr th:only-of-type {\n",
              "        vertical-align: middle;\n",
              "    }\n",
              "\n",
              "    .dataframe tbody tr th {\n",
              "        vertical-align: top;\n",
              "    }\n",
              "\n",
              "    .dataframe thead th {\n",
              "        text-align: right;\n",
              "    }\n",
              "</style>\n",
              "<table border=\"1\" class=\"dataframe\">\n",
              "  <thead>\n",
              "    <tr style=\"text-align: right;\">\n",
              "      <th></th>\n",
              "      <th>color_blue</th>\n",
              "      <th>color_green</th>\n",
              "      <th>color_red</th>\n",
              "      <th>status_disvorced</th>\n",
              "      <th>status_married</th>\n",
              "      <th>status_single</th>\n",
              "    </tr>\n",
              "  </thead>\n",
              "  <tbody>\n",
              "    <tr>\n",
              "      <th>0</th>\n",
              "      <td>0</td>\n",
              "      <td>0</td>\n",
              "      <td>1</td>\n",
              "      <td>0</td>\n",
              "      <td>0</td>\n",
              "      <td>1</td>\n",
              "    </tr>\n",
              "    <tr>\n",
              "      <th>1</th>\n",
              "      <td>0</td>\n",
              "      <td>0</td>\n",
              "      <td>1</td>\n",
              "      <td>0</td>\n",
              "      <td>1</td>\n",
              "      <td>0</td>\n",
              "    </tr>\n",
              "    <tr>\n",
              "      <th>2</th>\n",
              "      <td>0</td>\n",
              "      <td>1</td>\n",
              "      <td>0</td>\n",
              "      <td>0</td>\n",
              "      <td>0</td>\n",
              "      <td>1</td>\n",
              "    </tr>\n",
              "    <tr>\n",
              "      <th>3</th>\n",
              "      <td>1</td>\n",
              "      <td>0</td>\n",
              "      <td>0</td>\n",
              "      <td>1</td>\n",
              "      <td>0</td>\n",
              "      <td>0</td>\n",
              "    </tr>\n",
              "  </tbody>\n",
              "</table>\n",
              "</div>"
            ],
            "text/plain": [
              "   color_blue  color_green  ...  status_married  status_single\n",
              "0           0            0  ...               0              1\n",
              "1           0            0  ...               1              0\n",
              "2           0            1  ...               0              1\n",
              "3           1            0  ...               0              0\n",
              "\n",
              "[4 rows x 6 columns]"
            ]
          },
          "metadata": {
            "tags": []
          },
          "execution_count": 58
        }
      ]
    },
    {
      "cell_type": "code",
      "metadata": {
        "id": "9foFSXbNwVRT",
        "colab_type": "code",
        "colab": {
          "base_uri": "https://localhost:8080/",
          "height": 142
        },
        "outputId": "b292bd84-fe5e-4e7f-ef50-53bf13324a6f"
      },
      "source": [
        "data_pd_binary = pd.get_dummies(data_pd2)\n",
        "data_pd_binary = data_pd_binary.iloc[:3,:]\n",
        "data_pd_binary"
      ],
      "execution_count": 60,
      "outputs": [
        {
          "output_type": "execute_result",
          "data": {
            "text/html": [
              "<div>\n",
              "<style scoped>\n",
              "    .dataframe tbody tr th:only-of-type {\n",
              "        vertical-align: middle;\n",
              "    }\n",
              "\n",
              "    .dataframe tbody tr th {\n",
              "        vertical-align: top;\n",
              "    }\n",
              "\n",
              "    .dataframe thead th {\n",
              "        text-align: right;\n",
              "    }\n",
              "</style>\n",
              "<table border=\"1\" class=\"dataframe\">\n",
              "  <thead>\n",
              "    <tr style=\"text-align: right;\">\n",
              "      <th></th>\n",
              "      <th>color_blue</th>\n",
              "      <th>color_green</th>\n",
              "      <th>color_red</th>\n",
              "      <th>status_disvorced</th>\n",
              "      <th>status_married</th>\n",
              "      <th>status_single</th>\n",
              "    </tr>\n",
              "  </thead>\n",
              "  <tbody>\n",
              "    <tr>\n",
              "      <th>0</th>\n",
              "      <td>0</td>\n",
              "      <td>0</td>\n",
              "      <td>1</td>\n",
              "      <td>0</td>\n",
              "      <td>0</td>\n",
              "      <td>1</td>\n",
              "    </tr>\n",
              "    <tr>\n",
              "      <th>1</th>\n",
              "      <td>0</td>\n",
              "      <td>0</td>\n",
              "      <td>1</td>\n",
              "      <td>0</td>\n",
              "      <td>1</td>\n",
              "      <td>0</td>\n",
              "    </tr>\n",
              "    <tr>\n",
              "      <th>2</th>\n",
              "      <td>0</td>\n",
              "      <td>1</td>\n",
              "      <td>0</td>\n",
              "      <td>0</td>\n",
              "      <td>0</td>\n",
              "      <td>1</td>\n",
              "    </tr>\n",
              "  </tbody>\n",
              "</table>\n",
              "</div>"
            ],
            "text/plain": [
              "   color_blue  color_green  ...  status_married  status_single\n",
              "0           0            0  ...               0              1\n",
              "1           0            0  ...               1              0\n",
              "2           0            1  ...               0              1\n",
              "\n",
              "[3 rows x 6 columns]"
            ]
          },
          "metadata": {
            "tags": []
          },
          "execution_count": 60
        }
      ]
    },
    {
      "cell_type": "code",
      "metadata": {
        "id": "pBcBMYONwVOC",
        "colab_type": "code",
        "colab": {}
      },
      "source": [
        "def binary_sym_dist(data1,data2):\n",
        "  r = 0\n",
        "  s = 0\n",
        "  t = 0\n",
        "  q = 0\n",
        "  for i in range(len(data1)):\n",
        "    if data1[i] != data2[i]:\n",
        "      if data1[i] == 0:\n",
        "        s = s + 1\n",
        "      else:\n",
        "        r = r + 1\n",
        "    else: \n",
        "      if data1[i] == 0:\n",
        "        t = t + 1\n",
        "      else:\n",
        "        q = q + 1\n",
        "\n",
        "  return (r+s)/(r+s+t+q)"
      ],
      "execution_count": 63,
      "outputs": []
    },
    {
      "cell_type": "code",
      "metadata": {
        "id": "dkczPAtJwVK6",
        "colab_type": "code",
        "colab": {
          "base_uri": "https://localhost:8080/",
          "height": 34
        },
        "outputId": "8a3e0d61-e0c0-4e1b-f675-a24fbb16361b"
      },
      "source": [
        "binary_sym_dist(list(data_pd_binary.iloc[0,:]),list(data_pd_binary.iloc[1,:]))"
      ],
      "execution_count": 65,
      "outputs": [
        {
          "output_type": "execute_result",
          "data": {
            "text/plain": [
              "0.3333333333333333"
            ]
          },
          "metadata": {
            "tags": []
          },
          "execution_count": 65
        }
      ]
    },
    {
      "cell_type": "markdown",
      "metadata": {
        "id": "SvTZ1zKoyu32",
        "colab_type": "text"
      },
      "source": [
        "# HW8 calculate distance matrix of data_pd_binary using binary_sym_dist()"
      ]
    },
    {
      "cell_type": "code",
      "metadata": {
        "id": "DYFijNY3wVIE",
        "colab_type": "code",
        "colab": {}
      },
      "source": [
        "import numpy as np\n",
        "import math  "
      ],
      "execution_count": 77,
      "outputs": []
    },
    {
      "cell_type": "code",
      "metadata": {
        "id": "l0XP4gwvwVE5",
        "colab_type": "code",
        "colab": {}
      },
      "source": [
        "def binary_sym_dist(data1,data2):\n",
        "  r = 0\n",
        "  s = 0\n",
        "  t = 0\n",
        "  q = 0\n",
        "  for i in range(len(data1)):\n",
        "    if data1[i] != data2[i]:\n",
        "      if data1[i] == 0:\n",
        "        s = s + 1\n",
        "      else:\n",
        "        r = r + 1\n",
        "    else: \n",
        "      if data1[i] == 0:\n",
        "        t = t + 1\n",
        "      else:\n",
        "        q = q + 1\n",
        "\n",
        "  return (r+s)/(r+s+t+q)"
      ],
      "execution_count": 78,
      "outputs": []
    },
    {
      "cell_type": "code",
      "metadata": {
        "id": "zSHWDiQjwU-4",
        "colab_type": "code",
        "colab": {
          "base_uri": "https://localhost:8080/",
          "height": 68
        },
        "outputId": "e07b18c4-9a27-4642-ca8a-50dc29399ed6"
      },
      "source": [
        "dist_mat_data_pd = np.zeros((3,3))\n",
        "dist_mat_data_pd"
      ],
      "execution_count": 79,
      "outputs": [
        {
          "output_type": "execute_result",
          "data": {
            "text/plain": [
              "array([[0., 0., 0.],\n",
              "       [0., 0., 0.],\n",
              "       [0., 0., 0.]])"
            ]
          },
          "metadata": {
            "tags": []
          },
          "execution_count": 79
        }
      ]
    },
    {
      "cell_type": "code",
      "metadata": {
        "id": "2MH3LtGuwU7o",
        "colab_type": "code",
        "colab": {
          "base_uri": "https://localhost:8080/",
          "height": 68
        },
        "outputId": "0f3ad9e3-fdd5-4912-f2c5-90ebd56f58ee"
      },
      "source": [
        "for i in range(3):\n",
        "  for j in range(3):\n",
        "      dist_mat_data_pd[i,j] = binary_sym_dist(list(data_pd_binary.iloc[i,:]),list(data_pd_binary.iloc[j,:]))\n",
        "\n",
        "dist_mat_data_pd"
      ],
      "execution_count": 80,
      "outputs": [
        {
          "output_type": "execute_result",
          "data": {
            "text/plain": [
              "array([[0.        , 0.33333333, 0.33333333],\n",
              "       [0.33333333, 0.        , 0.66666667],\n",
              "       [0.33333333, 0.66666667, 0.        ]])"
            ]
          },
          "metadata": {
            "tags": []
          },
          "execution_count": 80
        }
      ]
    },
    {
      "cell_type": "code",
      "metadata": {
        "id": "rsLXsKEkwU4Z",
        "colab_type": "code",
        "colab": {}
      },
      "source": [
        ""
      ],
      "execution_count": null,
      "outputs": []
    },
    {
      "cell_type": "code",
      "metadata": {
        "id": "DwWgPV19wU0g",
        "colab_type": "code",
        "colab": {}
      },
      "source": [
        ""
      ],
      "execution_count": null,
      "outputs": []
    },
    {
      "cell_type": "code",
      "metadata": {
        "id": "cY4OqtfMwUwJ",
        "colab_type": "code",
        "colab": {}
      },
      "source": [
        ""
      ],
      "execution_count": null,
      "outputs": []
    },
    {
      "cell_type": "code",
      "metadata": {
        "id": "fVjxS1vlwUmt",
        "colab_type": "code",
        "colab": {}
      },
      "source": [
        ""
      ],
      "execution_count": null,
      "outputs": []
    },
    {
      "cell_type": "code",
      "metadata": {
        "id": "qz3HGDj6wUaR",
        "colab_type": "code",
        "colab": {}
      },
      "source": [
        ""
      ],
      "execution_count": null,
      "outputs": []
    }
  ]
}