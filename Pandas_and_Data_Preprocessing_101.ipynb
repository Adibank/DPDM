{
  "nbformat": 4,
  "nbformat_minor": 0,
  "metadata": {
    "colab": {
      "name": "Pandas and Data Preprocessing 101",
      "provenance": [],
      "authorship_tag": "ABX9TyOotrSmBRD82M08o22iUaoV",
      "include_colab_link": true
    },
    "kernelspec": {
      "name": "python3",
      "display_name": "Python 3"
    }
  },
  "cells": [
    {
      "cell_type": "markdown",
      "metadata": {
        "id": "view-in-github",
        "colab_type": "text"
      },
      "source": [
        "<a href=\"https://colab.research.google.com/github/Adibank/DPDM/blob/master/Pandas_and_Data_Preprocessing_101.ipynb\" target=\"_parent\"><img src=\"https://colab.research.google.com/assets/colab-badge.svg\" alt=\"Open In Colab\"/></a>"
      ]
    },
    {
      "cell_type": "markdown",
      "metadata": {
        "id": "dBkCid-mc5xu",
        "colab_type": "text"
      },
      "source": [
        "![แพนด้า2.jpg](data:image/jpeg;base64,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)\n"
      ]
    },
    {
      "cell_type": "code",
      "metadata": {
        "id": "48ISsobNdNJa",
        "colab_type": "code",
        "colab": {}
      },
      "source": [
        "import pandas"
      ],
      "execution_count": 55,
      "outputs": []
    },
    {
      "cell_type": "code",
      "metadata": {
        "id": "ufpJSqF5dTKN",
        "colab_type": "code",
        "colab": {}
      },
      "source": [
        "import pandas as pd"
      ],
      "execution_count": 56,
      "outputs": []
    },
    {
      "cell_type": "code",
      "metadata": {
        "id": "ovYyhSM-dTHL",
        "colab_type": "code",
        "colab": {}
      },
      "source": [
        "from google.colab import drive"
      ],
      "execution_count": 57,
      "outputs": []
    },
    {
      "cell_type": "code",
      "metadata": {
        "id": "w3-RYUaudTES",
        "colab_type": "code",
        "colab": {
          "base_uri": "https://localhost:8080/",
          "height": 34
        },
        "outputId": "a71d3f81-e635-49b4-8013-de5cdd5ede43"
      },
      "source": [
        "drive.mount('/content/drive')"
      ],
      "execution_count": 58,
      "outputs": [
        {
          "output_type": "stream",
          "text": [
            "Drive already mounted at /content/drive; to attempt to forcibly remount, call drive.mount(\"/content/drive\", force_remount=True).\n"
          ],
          "name": "stdout"
        }
      ]
    },
    {
      "cell_type": "code",
      "metadata": {
        "id": "v0bv4Ox5dTBS",
        "colab_type": "code",
        "colab": {}
      },
      "source": [
        "import os"
      ],
      "execution_count": 59,
      "outputs": []
    },
    {
      "cell_type": "code",
      "metadata": {
        "id": "hSNeuweadS-a",
        "colab_type": "code",
        "colab": {}
      },
      "source": [
        "path = '/content/drive/My Drive/DWDM_material'"
      ],
      "execution_count": 60,
      "outputs": []
    },
    {
      "cell_type": "code",
      "metadata": {
        "id": "hSafhsxjdS7a",
        "colab_type": "code",
        "colab": {}
      },
      "source": [
        "search_click = os.path.join(path,'search_click.csv')\n",
        "w_restaurant = os.path.join(path,'w_restaurant.csv')"
      ],
      "execution_count": 61,
      "outputs": []
    },
    {
      "cell_type": "code",
      "metadata": {
        "id": "_ICtvMfadS4b",
        "colab_type": "code",
        "colab": {}
      },
      "source": [
        "search_click_df = pandas.read_csv(search_click)"
      ],
      "execution_count": 62,
      "outputs": []
    },
    {
      "cell_type": "code",
      "metadata": {
        "id": "RMSfDPSydS1u",
        "colab_type": "code",
        "colab": {
          "base_uri": "https://localhost:8080/",
          "height": 204
        },
        "outputId": "46de17af-acba-4205-e589-85e5c39bc65c"
      },
      "source": [
        "search_click_df.head()"
      ],
      "execution_count": 63,
      "outputs": [
        {
          "output_type": "execute_result",
          "data": {
            "text/html": [
              "<div>\n",
              "<style scoped>\n",
              "    .dataframe tbody tr th:only-of-type {\n",
              "        vertical-align: middle;\n",
              "    }\n",
              "\n",
              "    .dataframe tbody tr th {\n",
              "        vertical-align: top;\n",
              "    }\n",
              "\n",
              "    .dataframe thead th {\n",
              "        text-align: right;\n",
              "    }\n",
              "</style>\n",
              "<table border=\"1\" class=\"dataframe\">\n",
              "  <thead>\n",
              "    <tr style=\"text-align: right;\">\n",
              "      <th></th>\n",
              "      <th>click_timestamp</th>\n",
              "      <th>search_id</th>\n",
              "      <th>business_id</th>\n",
              "      <th>display_position</th>\n",
              "      <th>time_diff_nanos</th>\n",
              "      <th>ads</th>\n",
              "    </tr>\n",
              "  </thead>\n",
              "  <tbody>\n",
              "    <tr>\n",
              "      <th>0</th>\n",
              "      <td>11:38.9</td>\n",
              "      <td>5c004472-5ecc-4159-9698-9f329b8e26e1</td>\n",
              "      <td>298839.0</td>\n",
              "      <td>0</td>\n",
              "      <td>2.222400e+15</td>\n",
              "      <td>True</td>\n",
              "    </tr>\n",
              "    <tr>\n",
              "      <th>1</th>\n",
              "      <td>30:51.3</td>\n",
              "      <td>5f34eca0-c04e-4c10-b600-54aa447dbd8e</td>\n",
              "      <td>171372.0</td>\n",
              "      <td>0</td>\n",
              "      <td>4.608380e+14</td>\n",
              "      <td>True</td>\n",
              "    </tr>\n",
              "    <tr>\n",
              "      <th>2</th>\n",
              "      <td>32:09.6</td>\n",
              "      <td>8dc6d1f0-11f1-4239-9dd2-5c1674c81224</td>\n",
              "      <td>16157.0</td>\n",
              "      <td>0</td>\n",
              "      <td>2.581490e+15</td>\n",
              "      <td>True</td>\n",
              "    </tr>\n",
              "    <tr>\n",
              "      <th>3</th>\n",
              "      <td>00:59.8</td>\n",
              "      <td>1a5810e9-3d1f-44b9-9a2e-26ede21c524b</td>\n",
              "      <td>89741.0</td>\n",
              "      <td>1</td>\n",
              "      <td>1.404580e+15</td>\n",
              "      <td>True</td>\n",
              "    </tr>\n",
              "    <tr>\n",
              "      <th>4</th>\n",
              "      <td>23:36.8</td>\n",
              "      <td>6bc75e0d-fc65-471e-9926-ff6be6708639</td>\n",
              "      <td>189564.0</td>\n",
              "      <td>1</td>\n",
              "      <td>9.333590e+14</td>\n",
              "      <td>True</td>\n",
              "    </tr>\n",
              "  </tbody>\n",
              "</table>\n",
              "</div>"
            ],
            "text/plain": [
              "  click_timestamp                             search_id  ...  time_diff_nanos   ads\n",
              "0         11:38.9  5c004472-5ecc-4159-9698-9f329b8e26e1  ...     2.222400e+15  True\n",
              "1         30:51.3  5f34eca0-c04e-4c10-b600-54aa447dbd8e  ...     4.608380e+14  True\n",
              "2         32:09.6  8dc6d1f0-11f1-4239-9dd2-5c1674c81224  ...     2.581490e+15  True\n",
              "3         00:59.8  1a5810e9-3d1f-44b9-9a2e-26ede21c524b  ...     1.404580e+15  True\n",
              "4         23:36.8  6bc75e0d-fc65-471e-9926-ff6be6708639  ...     9.333590e+14  True\n",
              "\n",
              "[5 rows x 6 columns]"
            ]
          },
          "metadata": {
            "tags": []
          },
          "execution_count": 63
        }
      ]
    },
    {
      "cell_type": "code",
      "metadata": {
        "id": "lBk5_ITFdSyb",
        "colab_type": "code",
        "colab": {}
      },
      "source": [
        "w_restaurant_df = pandas.read_csv(w_restaurant)"
      ],
      "execution_count": 64,
      "outputs": []
    },
    {
      "cell_type": "code",
      "metadata": {
        "id": "fUvPTDPQdSvK",
        "colab_type": "code",
        "colab": {
          "base_uri": "https://localhost:8080/",
          "height": 377
        },
        "outputId": "a9f6e84d-2c93-4ba4-e096-c13e8088f20d"
      },
      "source": [
        "w_restaurant_df.head()"
      ],
      "execution_count": 65,
      "outputs": [
        {
          "output_type": "execute_result",
          "data": {
            "text/html": [
              "<div>\n",
              "<style scoped>\n",
              "    .dataframe tbody tr th:only-of-type {\n",
              "        vertical-align: middle;\n",
              "    }\n",
              "\n",
              "    .dataframe tbody tr th {\n",
              "        vertical-align: top;\n",
              "    }\n",
              "\n",
              "    .dataframe thead th {\n",
              "        text-align: right;\n",
              "    }\n",
              "</style>\n",
              "<table border=\"1\" class=\"dataframe\">\n",
              "  <thead>\n",
              "    <tr style=\"text-align: right;\">\n",
              "      <th></th>\n",
              "      <th>id</th>\n",
              "      <th>name</th>\n",
              "      <th>domain_id</th>\n",
              "      <th>closed</th>\n",
              "      <th>city_name</th>\n",
              "      <th>zipcode</th>\n",
              "      <th>geohash</th>\n",
              "      <th>new_open</th>\n",
              "      <th>weighted_average_rating</th>\n",
              "      <th>number_of_chains</th>\n",
              "      <th>number_of_bookmarks</th>\n",
              "      <th>number_of_reviews</th>\n",
              "      <th>number_of_product_tags</th>\n",
              "      <th>total_number_of_views</th>\n",
              "      <th>number_of_checkins</th>\n",
              "      <th>number_of_menu_groups</th>\n",
              "      <th>number_of_menu_photos</th>\n",
              "      <th>category_name</th>\n",
              "      <th>price_range</th>\n",
              "      <th>avg_price</th>\n",
              "      <th>parking</th>\n",
              "      <th>credit_card_accepted</th>\n",
              "      <th>good_for_groups</th>\n",
              "      <th>good_for_kids</th>\n",
              "      <th>bookable</th>\n",
              "      <th>best_of_wongnai</th>\n",
              "      <th>wifi</th>\n",
              "      <th>number_of_seats</th>\n",
              "      <th>music_venue</th>\n",
              "      <th>hotel_restaurant</th>\n",
              "      <th>pet_friendly</th>\n",
              "      <th>delivery</th>\n",
              "    </tr>\n",
              "  </thead>\n",
              "  <tbody>\n",
              "    <tr>\n",
              "      <th>0</th>\n",
              "      <td>2</td>\n",
              "      <td>นครินทร์ทันตกรรม</td>\n",
              "      <td>2</td>\n",
              "      <td>0</td>\n",
              "      <td>Samut Songkhram</td>\n",
              "      <td>75000</td>\n",
              "      <td>w4rh7g3</td>\n",
              "      <td>0</td>\n",
              "      <td>5.000000</td>\n",
              "      <td>NaN</td>\n",
              "      <td>NaN</td>\n",
              "      <td>1</td>\n",
              "      <td>0</td>\n",
              "      <td>3016</td>\n",
              "      <td>0</td>\n",
              "      <td>0</td>\n",
              "      <td>0</td>\n",
              "      <td>Orthodontic</td>\n",
              "      <td>NaN</td>\n",
              "      <td>NaN</td>\n",
              "      <td>3.0</td>\n",
              "      <td>0.0</td>\n",
              "      <td>NaN</td>\n",
              "      <td>NaN</td>\n",
              "      <td>NaN</td>\n",
              "      <td>NaN</td>\n",
              "      <td>NaN</td>\n",
              "      <td>13.0</td>\n",
              "      <td>NaN</td>\n",
              "      <td>NaN</td>\n",
              "      <td>NaN</td>\n",
              "      <td>NaN</td>\n",
              "    </tr>\n",
              "    <tr>\n",
              "      <th>1</th>\n",
              "      <td>4</td>\n",
              "      <td>Corner House</td>\n",
              "      <td>1</td>\n",
              "      <td>0</td>\n",
              "      <td>Bangkok Metropolitan Region</td>\n",
              "      <td>12150</td>\n",
              "      <td>w4rx73h</td>\n",
              "      <td>0</td>\n",
              "      <td>2.000000</td>\n",
              "      <td>NaN</td>\n",
              "      <td>NaN</td>\n",
              "      <td>1</td>\n",
              "      <td>0</td>\n",
              "      <td>321</td>\n",
              "      <td>0</td>\n",
              "      <td>0</td>\n",
              "      <td>1</td>\n",
              "      <td>Quick Meal</td>\n",
              "      <td>1.0</td>\n",
              "      <td>NaN</td>\n",
              "      <td>1.0</td>\n",
              "      <td>NaN</td>\n",
              "      <td>NaN</td>\n",
              "      <td>NaN</td>\n",
              "      <td>NaN</td>\n",
              "      <td>NaN</td>\n",
              "      <td>NaN</td>\n",
              "      <td>NaN</td>\n",
              "      <td>NaN</td>\n",
              "      <td>NaN</td>\n",
              "      <td>NaN</td>\n",
              "      <td>NaN</td>\n",
              "    </tr>\n",
              "    <tr>\n",
              "      <th>2</th>\n",
              "      <td>5</td>\n",
              "      <td>วัดโลกยสุธาราม</td>\n",
              "      <td>4</td>\n",
              "      <td>0</td>\n",
              "      <td>Phra Nakhon Si Ayutthaya</td>\n",
              "      <td>13000</td>\n",
              "      <td>w4x98jk</td>\n",
              "      <td>0</td>\n",
              "      <td>4.000000</td>\n",
              "      <td>NaN</td>\n",
              "      <td>1.0</td>\n",
              "      <td>0</td>\n",
              "      <td>0</td>\n",
              "      <td>167</td>\n",
              "      <td>0</td>\n",
              "      <td>0</td>\n",
              "      <td>0</td>\n",
              "      <td>Historical/Religion</td>\n",
              "      <td>NaN</td>\n",
              "      <td>NaN</td>\n",
              "      <td>1.0</td>\n",
              "      <td>NaN</td>\n",
              "      <td>NaN</td>\n",
              "      <td>NaN</td>\n",
              "      <td>NaN</td>\n",
              "      <td>NaN</td>\n",
              "      <td>NaN</td>\n",
              "      <td>NaN</td>\n",
              "      <td>NaN</td>\n",
              "      <td>NaN</td>\n",
              "      <td>NaN</td>\n",
              "      <td>NaN</td>\n",
              "    </tr>\n",
              "    <tr>\n",
              "      <th>3</th>\n",
              "      <td>6</td>\n",
              "      <td>นันท์คาราโอเกะ</td>\n",
              "      <td>1</td>\n",
              "      <td>0</td>\n",
              "      <td>Bangkok Metropolitan Region</td>\n",
              "      <td>10700</td>\n",
              "      <td>w4rqw9q</td>\n",
              "      <td>0</td>\n",
              "      <td>0.000000</td>\n",
              "      <td>NaN</td>\n",
              "      <td>NaN</td>\n",
              "      <td>0</td>\n",
              "      <td>0</td>\n",
              "      <td>901</td>\n",
              "      <td>0</td>\n",
              "      <td>0</td>\n",
              "      <td>0</td>\n",
              "      <td>Karaoke</td>\n",
              "      <td>NaN</td>\n",
              "      <td>NaN</td>\n",
              "      <td>NaN</td>\n",
              "      <td>NaN</td>\n",
              "      <td>NaN</td>\n",
              "      <td>NaN</td>\n",
              "      <td>NaN</td>\n",
              "      <td>NaN</td>\n",
              "      <td>NaN</td>\n",
              "      <td>NaN</td>\n",
              "      <td>NaN</td>\n",
              "      <td>NaN</td>\n",
              "      <td>NaN</td>\n",
              "      <td>NaN</td>\n",
              "    </tr>\n",
              "    <tr>\n",
              "      <th>4</th>\n",
              "      <td>7</td>\n",
              "      <td>Buono Caffe</td>\n",
              "      <td>1</td>\n",
              "      <td>0</td>\n",
              "      <td>Bangkok Metropolitan Region</td>\n",
              "      <td>10220</td>\n",
              "      <td>w4rx4gd</td>\n",
              "      <td>0</td>\n",
              "      <td>3.738462</td>\n",
              "      <td>NaN</td>\n",
              "      <td>15.0</td>\n",
              "      <td>3</td>\n",
              "      <td>0</td>\n",
              "      <td>2360</td>\n",
              "      <td>1</td>\n",
              "      <td>0</td>\n",
              "      <td>2</td>\n",
              "      <td>Café/Coffee Shop</td>\n",
              "      <td>1.0</td>\n",
              "      <td>NaN</td>\n",
              "      <td>1.0</td>\n",
              "      <td>0.0</td>\n",
              "      <td>NaN</td>\n",
              "      <td>NaN</td>\n",
              "      <td>NaN</td>\n",
              "      <td>NaN</td>\n",
              "      <td>1.0</td>\n",
              "      <td>2.0</td>\n",
              "      <td>NaN</td>\n",
              "      <td>NaN</td>\n",
              "      <td>NaN</td>\n",
              "      <td>NaN</td>\n",
              "    </tr>\n",
              "  </tbody>\n",
              "</table>\n",
              "</div>"
            ],
            "text/plain": [
              "   id              name  domain_id  ...  hotel_restaurant pet_friendly delivery\n",
              "0   2  นครินทร์ทันตกรรม          2  ...               NaN          NaN      NaN\n",
              "1   4      Corner House          1  ...               NaN          NaN      NaN\n",
              "2   5    วัดโลกยสุธาราม          4  ...               NaN          NaN      NaN\n",
              "3   6    นันท์คาราโอเกะ          1  ...               NaN          NaN      NaN\n",
              "4   7       Buono Caffe          1  ...               NaN          NaN      NaN\n",
              "\n",
              "[5 rows x 32 columns]"
            ]
          },
          "metadata": {
            "tags": []
          },
          "execution_count": 65
        }
      ]
    },
    {
      "cell_type": "markdown",
      "metadata": {
        "id": "LHa1BZtgpHM3",
        "colab_type": "text"
      },
      "source": [
        "# To check if the dimension of loaded data is correct as described in the description"
      ]
    },
    {
      "cell_type": "code",
      "metadata": {
        "id": "fHPz2aaSdSsS",
        "colab_type": "code",
        "colab": {
          "base_uri": "https://localhost:8080/",
          "height": 34
        },
        "outputId": "b8cd792a-ed87-4e44-b6db-03b623ba0da3"
      },
      "source": [
        "search_click_df.shape #ดูรูปร่างของตารางเราว่ามันเป็นยังไง (จำนวนแถว,จำนวนหลัก)"
      ],
      "execution_count": 66,
      "outputs": [
        {
          "output_type": "execute_result",
          "data": {
            "text/plain": [
              "(1048575, 6)"
            ]
          },
          "metadata": {
            "tags": []
          },
          "execution_count": 66
        }
      ]
    },
    {
      "cell_type": "code",
      "metadata": {
        "id": "0-Py-cYzdSo6",
        "colab_type": "code",
        "colab": {
          "base_uri": "https://localhost:8080/",
          "height": 34
        },
        "outputId": "a06d2f55-edf9-4196-eb49-df3a79961643"
      },
      "source": [
        "w_restaurant_df.shape"
      ],
      "execution_count": 67,
      "outputs": [
        {
          "output_type": "execute_result",
          "data": {
            "text/plain": [
              "(246847, 32)"
            ]
          },
          "metadata": {
            "tags": []
          },
          "execution_count": 67
        }
      ]
    },
    {
      "cell_type": "code",
      "metadata": {
        "id": "lHeDlggjdSl8",
        "colab_type": "code",
        "colab": {
          "base_uri": "https://localhost:8080/",
          "height": 34
        },
        "outputId": "23a897df-7b6e-431b-c9aa-2cb27bc40428"
      },
      "source": [
        "search_click_df.shape[0]"
      ],
      "execution_count": 68,
      "outputs": [
        {
          "output_type": "execute_result",
          "data": {
            "text/plain": [
              "1048575"
            ]
          },
          "metadata": {
            "tags": []
          },
          "execution_count": 68
        }
      ]
    },
    {
      "cell_type": "markdown",
      "metadata": {
        "id": "O_roPAC7p01N",
        "colab_type": "text"
      },
      "source": [
        "# It seem everything is ok, let's have fun with data"
      ]
    },
    {
      "cell_type": "markdown",
      "metadata": {
        "id": "e3aCXwXGp9xS",
        "colab_type": "text"
      },
      "source": [
        "## 0.Point to data in the table"
      ]
    },
    {
      "cell_type": "markdown",
      "metadata": {
        "id": "NbZBQeDzqDpK",
        "colab_type": "text"
      },
      "source": [
        "### normal indexing"
      ]
    },
    {
      "cell_type": "code",
      "metadata": {
        "id": "NJZt9TaBdSf6",
        "colab_type": "code",
        "colab": {
          "base_uri": "https://localhost:8080/",
          "height": 0
        },
        "outputId": "4802df6a-b42b-4bdb-ba1a-57b484541d92"
      },
      "source": [
        "search_click_df['search_id']"
      ],
      "execution_count": 69,
      "outputs": [
        {
          "output_type": "execute_result",
          "data": {
            "text/plain": [
              "0          5c004472-5ecc-4159-9698-9f329b8e26e1\n",
              "1          5f34eca0-c04e-4c10-b600-54aa447dbd8e\n",
              "2          8dc6d1f0-11f1-4239-9dd2-5c1674c81224\n",
              "3          1a5810e9-3d1f-44b9-9a2e-26ede21c524b\n",
              "4          6bc75e0d-fc65-471e-9926-ff6be6708639\n",
              "                           ...                 \n",
              "1048570    99aab616-6fc5-4fbf-994b-4aebee7bb360\n",
              "1048571    d70a2c5d-ee94-4e4c-9f7c-c5faac6db12a\n",
              "1048572    4c1de7fe-300e-41aa-9d01-914344fc3753\n",
              "1048573    2ec0ddec-e450-4b98-9779-42b77aa7eda5\n",
              "1048574    5741d9cf-b9f1-441d-aa83-d2b0179bf874\n",
              "Name: search_id, Length: 1048575, dtype: object"
            ]
          },
          "metadata": {
            "tags": []
          },
          "execution_count": 69
        }
      ]
    },
    {
      "cell_type": "code",
      "metadata": {
        "id": "xf_ShxNFdSdC",
        "colab_type": "code",
        "colab": {
          "base_uri": "https://localhost:8080/",
          "height": 0
        },
        "outputId": "a15a0aad-510d-4f5b-f390-48ea57d09585"
      },
      "source": [
        "search_click_df['search_id'][0]"
      ],
      "execution_count": 70,
      "outputs": [
        {
          "output_type": "execute_result",
          "data": {
            "application/vnd.google.colaboratory.intrinsic+json": {
              "type": "string"
            },
            "text/plain": [
              "'5c004472-5ecc-4159-9698-9f329b8e26e1'"
            ]
          },
          "metadata": {
            "tags": []
          },
          "execution_count": 70
        }
      ]
    },
    {
      "cell_type": "code",
      "metadata": {
        "id": "V9YvYanbdSaK",
        "colab_type": "code",
        "colab": {
          "base_uri": "https://localhost:8080/",
          "height": 0
        },
        "outputId": "db8de906-2282-4a40-9c42-a17d78fc8d0c"
      },
      "source": [
        "w_restaurant_df[['name','city_name','weighted_average_rating']] # list ของคอลัมน์ที่เราต้องการ"
      ],
      "execution_count": 71,
      "outputs": [
        {
          "output_type": "execute_result",
          "data": {
            "text/html": [
              "<div>\n",
              "<style scoped>\n",
              "    .dataframe tbody tr th:only-of-type {\n",
              "        vertical-align: middle;\n",
              "    }\n",
              "\n",
              "    .dataframe tbody tr th {\n",
              "        vertical-align: top;\n",
              "    }\n",
              "\n",
              "    .dataframe thead th {\n",
              "        text-align: right;\n",
              "    }\n",
              "</style>\n",
              "<table border=\"1\" class=\"dataframe\">\n",
              "  <thead>\n",
              "    <tr style=\"text-align: right;\">\n",
              "      <th></th>\n",
              "      <th>name</th>\n",
              "      <th>city_name</th>\n",
              "      <th>weighted_average_rating</th>\n",
              "    </tr>\n",
              "  </thead>\n",
              "  <tbody>\n",
              "    <tr>\n",
              "      <th>0</th>\n",
              "      <td>นครินทร์ทันตกรรม</td>\n",
              "      <td>Samut Songkhram</td>\n",
              "      <td>5.000000</td>\n",
              "    </tr>\n",
              "    <tr>\n",
              "      <th>1</th>\n",
              "      <td>Corner House</td>\n",
              "      <td>Bangkok Metropolitan Region</td>\n",
              "      <td>2.000000</td>\n",
              "    </tr>\n",
              "    <tr>\n",
              "      <th>2</th>\n",
              "      <td>วัดโลกยสุธาราม</td>\n",
              "      <td>Phra Nakhon Si Ayutthaya</td>\n",
              "      <td>4.000000</td>\n",
              "    </tr>\n",
              "    <tr>\n",
              "      <th>3</th>\n",
              "      <td>นันท์คาราโอเกะ</td>\n",
              "      <td>Bangkok Metropolitan Region</td>\n",
              "      <td>0.000000</td>\n",
              "    </tr>\n",
              "    <tr>\n",
              "      <th>4</th>\n",
              "      <td>Buono Caffe</td>\n",
              "      <td>Bangkok Metropolitan Region</td>\n",
              "      <td>3.738462</td>\n",
              "    </tr>\n",
              "    <tr>\n",
              "      <th>...</th>\n",
              "      <td>...</td>\n",
              "      <td>...</td>\n",
              "      <td>...</td>\n",
              "    </tr>\n",
              "    <tr>\n",
              "      <th>246842</th>\n",
              "      <td>Sushi Tama</td>\n",
              "      <td>Bangkok Metropolitan Region</td>\n",
              "      <td>3.663522</td>\n",
              "    </tr>\n",
              "    <tr>\n",
              "      <th>246843</th>\n",
              "      <td>สะบายดี คาราโอเกะ</td>\n",
              "      <td>Bangkok Metropolitan Region</td>\n",
              "      <td>0.000000</td>\n",
              "    </tr>\n",
              "    <tr>\n",
              "      <th>246844</th>\n",
              "      <td>สเต็กแม่&amp;กาแฟลูก</td>\n",
              "      <td>Bangkok Metropolitan Region</td>\n",
              "      <td>4.000000</td>\n",
              "    </tr>\n",
              "    <tr>\n",
              "      <th>246845</th>\n",
              "      <td>Mom Made</td>\n",
              "      <td>Nakhon Si Thammarat</td>\n",
              "      <td>5.000000</td>\n",
              "    </tr>\n",
              "    <tr>\n",
              "      <th>246846</th>\n",
              "      <td>ก๋วยเตี๋ยวหมูน้ำตก ก๋วยเตี๋ยวเรือทอง</td>\n",
              "      <td>Suphan Buri</td>\n",
              "      <td>3.000000</td>\n",
              "    </tr>\n",
              "  </tbody>\n",
              "</table>\n",
              "<p>246847 rows × 3 columns</p>\n",
              "</div>"
            ],
            "text/plain": [
              "                                        name  ... weighted_average_rating\n",
              "0                           นครินทร์ทันตกรรม  ...                5.000000\n",
              "1                               Corner House  ...                2.000000\n",
              "2                             วัดโลกยสุธาราม  ...                4.000000\n",
              "3                             นันท์คาราโอเกะ  ...                0.000000\n",
              "4                                Buono Caffe  ...                3.738462\n",
              "...                                      ...  ...                     ...\n",
              "246842                            Sushi Tama  ...                3.663522\n",
              "246843                     สะบายดี คาราโอเกะ  ...                0.000000\n",
              "246844                      สเต็กแม่&กาแฟลูก  ...                4.000000\n",
              "246845                              Mom Made  ...                5.000000\n",
              "246846  ก๋วยเตี๋ยวหมูน้ำตก ก๋วยเตี๋ยวเรือทอง  ...                3.000000\n",
              "\n",
              "[246847 rows x 3 columns]"
            ]
          },
          "metadata": {
            "tags": []
          },
          "execution_count": 71
        }
      ]
    },
    {
      "cell_type": "markdown",
      "metadata": {
        "id": "pmIC7Uf7rMkk",
        "colab_type": "text"
      },
      "source": [
        "### iloc"
      ]
    },
    {
      "cell_type": "code",
      "metadata": {
        "id": "0b-7S2TsdSXC",
        "colab_type": "code",
        "colab": {
          "base_uri": "https://localhost:8080/",
          "height": 0
        },
        "outputId": "38001857-b414-4e33-c60e-060e9105a2d1"
      },
      "source": [
        "search_click_df.iloc[0,1]"
      ],
      "execution_count": 72,
      "outputs": [
        {
          "output_type": "execute_result",
          "data": {
            "application/vnd.google.colaboratory.intrinsic+json": {
              "type": "string"
            },
            "text/plain": [
              "'5c004472-5ecc-4159-9698-9f329b8e26e1'"
            ]
          },
          "metadata": {
            "tags": []
          },
          "execution_count": 72
        }
      ]
    },
    {
      "cell_type": "code",
      "metadata": {
        "id": "hnVvIqoJdSRc",
        "colab_type": "code",
        "colab": {
          "base_uri": "https://localhost:8080/",
          "height": 0
        },
        "outputId": "0f89829f-a20b-41b4-ca47-780cb1571022"
      },
      "source": [
        "search_click_df.iloc[:10,:2]"
      ],
      "execution_count": 73,
      "outputs": [
        {
          "output_type": "execute_result",
          "data": {
            "text/html": [
              "<div>\n",
              "<style scoped>\n",
              "    .dataframe tbody tr th:only-of-type {\n",
              "        vertical-align: middle;\n",
              "    }\n",
              "\n",
              "    .dataframe tbody tr th {\n",
              "        vertical-align: top;\n",
              "    }\n",
              "\n",
              "    .dataframe thead th {\n",
              "        text-align: right;\n",
              "    }\n",
              "</style>\n",
              "<table border=\"1\" class=\"dataframe\">\n",
              "  <thead>\n",
              "    <tr style=\"text-align: right;\">\n",
              "      <th></th>\n",
              "      <th>click_timestamp</th>\n",
              "      <th>search_id</th>\n",
              "    </tr>\n",
              "  </thead>\n",
              "  <tbody>\n",
              "    <tr>\n",
              "      <th>0</th>\n",
              "      <td>11:38.9</td>\n",
              "      <td>5c004472-5ecc-4159-9698-9f329b8e26e1</td>\n",
              "    </tr>\n",
              "    <tr>\n",
              "      <th>1</th>\n",
              "      <td>30:51.3</td>\n",
              "      <td>5f34eca0-c04e-4c10-b600-54aa447dbd8e</td>\n",
              "    </tr>\n",
              "    <tr>\n",
              "      <th>2</th>\n",
              "      <td>32:09.6</td>\n",
              "      <td>8dc6d1f0-11f1-4239-9dd2-5c1674c81224</td>\n",
              "    </tr>\n",
              "    <tr>\n",
              "      <th>3</th>\n",
              "      <td>00:59.8</td>\n",
              "      <td>1a5810e9-3d1f-44b9-9a2e-26ede21c524b</td>\n",
              "    </tr>\n",
              "    <tr>\n",
              "      <th>4</th>\n",
              "      <td>23:36.8</td>\n",
              "      <td>6bc75e0d-fc65-471e-9926-ff6be6708639</td>\n",
              "    </tr>\n",
              "    <tr>\n",
              "      <th>5</th>\n",
              "      <td>48:16.7</td>\n",
              "      <td>92ea02ba-2c89-4efd-973c-e23526c531de</td>\n",
              "    </tr>\n",
              "    <tr>\n",
              "      <th>6</th>\n",
              "      <td>39:18.4</td>\n",
              "      <td>79d61918-fb3e-4181-99b6-7a7abddfcdb1</td>\n",
              "    </tr>\n",
              "    <tr>\n",
              "      <th>7</th>\n",
              "      <td>33:39.0</td>\n",
              "      <td>7f8b2b57-dea1-4fe1-84c8-5a7d63750e47</td>\n",
              "    </tr>\n",
              "    <tr>\n",
              "      <th>8</th>\n",
              "      <td>07:48.3</td>\n",
              "      <td>3d9217bb-3eae-42b5-8cf3-a756efae2cfa</td>\n",
              "    </tr>\n",
              "    <tr>\n",
              "      <th>9</th>\n",
              "      <td>41:25.4</td>\n",
              "      <td>a2cb0d41-6e1f-4169-9140-cb671fbb41dc</td>\n",
              "    </tr>\n",
              "  </tbody>\n",
              "</table>\n",
              "</div>"
            ],
            "text/plain": [
              "  click_timestamp                             search_id\n",
              "0         11:38.9  5c004472-5ecc-4159-9698-9f329b8e26e1\n",
              "1         30:51.3  5f34eca0-c04e-4c10-b600-54aa447dbd8e\n",
              "2         32:09.6  8dc6d1f0-11f1-4239-9dd2-5c1674c81224\n",
              "3         00:59.8  1a5810e9-3d1f-44b9-9a2e-26ede21c524b\n",
              "4         23:36.8  6bc75e0d-fc65-471e-9926-ff6be6708639\n",
              "5         48:16.7  92ea02ba-2c89-4efd-973c-e23526c531de\n",
              "6         39:18.4  79d61918-fb3e-4181-99b6-7a7abddfcdb1\n",
              "7         33:39.0  7f8b2b57-dea1-4fe1-84c8-5a7d63750e47\n",
              "8         07:48.3  3d9217bb-3eae-42b5-8cf3-a756efae2cfa\n",
              "9         41:25.4  a2cb0d41-6e1f-4169-9140-cb671fbb41dc"
            ]
          },
          "metadata": {
            "tags": []
          },
          "execution_count": 73
        }
      ]
    },
    {
      "cell_type": "markdown",
      "metadata": {
        "id": "k2uI2WEMrt72",
        "colab_type": "text"
      },
      "source": [
        "## 1 Missing Values"
      ]
    },
    {
      "cell_type": "code",
      "metadata": {
        "id": "LxCUI1A2dSOV",
        "colab_type": "code",
        "colab": {
          "base_uri": "https://localhost:8080/",
          "height": 0
        },
        "outputId": "1e77e826-1e3d-40da-cad3-3f5e6629dc9a"
      },
      "source": [
        "search_click_df.isnull() #มันจะเช็คว่าแต่ละช่องเป็น null รึเปล่า ถ้าไม่เป็นจะขึ้น False ถ้าเป็นจะขึ้น True"
      ],
      "execution_count": 74,
      "outputs": [
        {
          "output_type": "execute_result",
          "data": {
            "text/html": [
              "<div>\n",
              "<style scoped>\n",
              "    .dataframe tbody tr th:only-of-type {\n",
              "        vertical-align: middle;\n",
              "    }\n",
              "\n",
              "    .dataframe tbody tr th {\n",
              "        vertical-align: top;\n",
              "    }\n",
              "\n",
              "    .dataframe thead th {\n",
              "        text-align: right;\n",
              "    }\n",
              "</style>\n",
              "<table border=\"1\" class=\"dataframe\">\n",
              "  <thead>\n",
              "    <tr style=\"text-align: right;\">\n",
              "      <th></th>\n",
              "      <th>click_timestamp</th>\n",
              "      <th>search_id</th>\n",
              "      <th>business_id</th>\n",
              "      <th>display_position</th>\n",
              "      <th>time_diff_nanos</th>\n",
              "      <th>ads</th>\n",
              "    </tr>\n",
              "  </thead>\n",
              "  <tbody>\n",
              "    <tr>\n",
              "      <th>0</th>\n",
              "      <td>False</td>\n",
              "      <td>False</td>\n",
              "      <td>False</td>\n",
              "      <td>False</td>\n",
              "      <td>False</td>\n",
              "      <td>False</td>\n",
              "    </tr>\n",
              "    <tr>\n",
              "      <th>1</th>\n",
              "      <td>False</td>\n",
              "      <td>False</td>\n",
              "      <td>False</td>\n",
              "      <td>False</td>\n",
              "      <td>False</td>\n",
              "      <td>False</td>\n",
              "    </tr>\n",
              "    <tr>\n",
              "      <th>2</th>\n",
              "      <td>False</td>\n",
              "      <td>False</td>\n",
              "      <td>False</td>\n",
              "      <td>False</td>\n",
              "      <td>False</td>\n",
              "      <td>False</td>\n",
              "    </tr>\n",
              "    <tr>\n",
              "      <th>3</th>\n",
              "      <td>False</td>\n",
              "      <td>False</td>\n",
              "      <td>False</td>\n",
              "      <td>False</td>\n",
              "      <td>False</td>\n",
              "      <td>False</td>\n",
              "    </tr>\n",
              "    <tr>\n",
              "      <th>4</th>\n",
              "      <td>False</td>\n",
              "      <td>False</td>\n",
              "      <td>False</td>\n",
              "      <td>False</td>\n",
              "      <td>False</td>\n",
              "      <td>False</td>\n",
              "    </tr>\n",
              "    <tr>\n",
              "      <th>...</th>\n",
              "      <td>...</td>\n",
              "      <td>...</td>\n",
              "      <td>...</td>\n",
              "      <td>...</td>\n",
              "      <td>...</td>\n",
              "      <td>...</td>\n",
              "    </tr>\n",
              "    <tr>\n",
              "      <th>1048570</th>\n",
              "      <td>False</td>\n",
              "      <td>False</td>\n",
              "      <td>False</td>\n",
              "      <td>False</td>\n",
              "      <td>False</td>\n",
              "      <td>False</td>\n",
              "    </tr>\n",
              "    <tr>\n",
              "      <th>1048571</th>\n",
              "      <td>False</td>\n",
              "      <td>False</td>\n",
              "      <td>False</td>\n",
              "      <td>False</td>\n",
              "      <td>False</td>\n",
              "      <td>False</td>\n",
              "    </tr>\n",
              "    <tr>\n",
              "      <th>1048572</th>\n",
              "      <td>False</td>\n",
              "      <td>False</td>\n",
              "      <td>False</td>\n",
              "      <td>False</td>\n",
              "      <td>False</td>\n",
              "      <td>False</td>\n",
              "    </tr>\n",
              "    <tr>\n",
              "      <th>1048573</th>\n",
              "      <td>False</td>\n",
              "      <td>False</td>\n",
              "      <td>False</td>\n",
              "      <td>False</td>\n",
              "      <td>False</td>\n",
              "      <td>False</td>\n",
              "    </tr>\n",
              "    <tr>\n",
              "      <th>1048574</th>\n",
              "      <td>False</td>\n",
              "      <td>False</td>\n",
              "      <td>False</td>\n",
              "      <td>False</td>\n",
              "      <td>False</td>\n",
              "      <td>False</td>\n",
              "    </tr>\n",
              "  </tbody>\n",
              "</table>\n",
              "<p>1048575 rows × 6 columns</p>\n",
              "</div>"
            ],
            "text/plain": [
              "         click_timestamp  search_id  ...  time_diff_nanos    ads\n",
              "0                  False      False  ...            False  False\n",
              "1                  False      False  ...            False  False\n",
              "2                  False      False  ...            False  False\n",
              "3                  False      False  ...            False  False\n",
              "4                  False      False  ...            False  False\n",
              "...                  ...        ...  ...              ...    ...\n",
              "1048570            False      False  ...            False  False\n",
              "1048571            False      False  ...            False  False\n",
              "1048572            False      False  ...            False  False\n",
              "1048573            False      False  ...            False  False\n",
              "1048574            False      False  ...            False  False\n",
              "\n",
              "[1048575 rows x 6 columns]"
            ]
          },
          "metadata": {
            "tags": []
          },
          "execution_count": 74
        }
      ]
    },
    {
      "cell_type": "code",
      "metadata": {
        "id": "-OPjJ_VudSLM",
        "colab_type": "code",
        "colab": {
          "base_uri": "https://localhost:8080/",
          "height": 0
        },
        "outputId": "2046c82d-954a-42c0-c77d-7724ccd1ccb4"
      },
      "source": [
        "search_click_df.isnull().any() #สรุปรวมความจริงทั้งหมดทางด้านส่วนของคอลัมน์โดยมันจะเอาค่าของความจริงมาเชื่อมด้วย *หรือ(ในทางตรรกศาสตร์)*"
      ],
      "execution_count": 75,
      "outputs": [
        {
          "output_type": "execute_result",
          "data": {
            "text/plain": [
              "click_timestamp     False\n",
              "search_id            True\n",
              "business_id          True\n",
              "display_position    False\n",
              "time_diff_nanos     False\n",
              "ads                 False\n",
              "dtype: bool"
            ]
          },
          "metadata": {
            "tags": []
          },
          "execution_count": 75
        }
      ]
    },
    {
      "cell_type": "code",
      "metadata": {
        "id": "V4a5pnAvdSF6",
        "colab_type": "code",
        "colab": {
          "base_uri": "https://localhost:8080/",
          "height": 0
        },
        "outputId": "be0e8125-abd3-4c43-af44-edd596f482e4"
      },
      "source": [
        "search_click_df.isnull().any().any() #เอาค่า true false จากตารางข้างต้นมาเชื่อมด้วยหรือ ผลคือ true"
      ],
      "execution_count": 76,
      "outputs": [
        {
          "output_type": "execute_result",
          "data": {
            "text/plain": [
              "True"
            ]
          },
          "metadata": {
            "tags": []
          },
          "execution_count": 76
        }
      ]
    },
    {
      "cell_type": "markdown",
      "metadata": {
        "id": "eDfpAOMQtmDH",
        "colab_type": "text"
      },
      "source": [
        "## Handling missing values 1"
      ]
    },
    {
      "cell_type": "code",
      "metadata": {
        "id": "HbVDbujmdSDC",
        "colab_type": "code",
        "colab": {}
      },
      "source": [
        "search_click_df_nm = search_click_df.dropna()"
      ],
      "execution_count": 77,
      "outputs": []
    },
    {
      "cell_type": "code",
      "metadata": {
        "id": "UkwmINuRdSAi",
        "colab_type": "code",
        "colab": {
          "base_uri": "https://localhost:8080/",
          "height": 0
        },
        "outputId": "6f04b6fc-8a0e-4f1e-d8ef-214e95a18db1"
      },
      "source": [
        "search_click_df_nm.isnull().any().any()"
      ],
      "execution_count": 78,
      "outputs": [
        {
          "output_type": "execute_result",
          "data": {
            "text/plain": [
              "False"
            ]
          },
          "metadata": {
            "tags": []
          },
          "execution_count": 78
        }
      ]
    },
    {
      "cell_type": "code",
      "metadata": {
        "id": "_Febk-AUdR9q",
        "colab_type": "code",
        "colab": {
          "base_uri": "https://localhost:8080/",
          "height": 0
        },
        "outputId": "b1d26c2f-82dd-43b8-a9b8-27e729dabbe9"
      },
      "source": [
        "print(search_click_df.shape)\n",
        "print(search_click_df_nm.shape)"
      ],
      "execution_count": 79,
      "outputs": [
        {
          "output_type": "stream",
          "text": [
            "(1048575, 6)\n",
            "(1048206, 6)\n"
          ],
          "name": "stdout"
        }
      ]
    },
    {
      "cell_type": "markdown",
      "metadata": {
        "id": "Q2fnJPcAuXEA",
        "colab_type": "text"
      },
      "source": [
        "# Excercise 1 ตรวจสอบว่าการลบข้อมูล missing ออกจากตาราง w_restarant จะทำให้ข้อมูลลดลงกี่ %"
      ]
    },
    {
      "cell_type": "code",
      "metadata": {
        "id": "YXTMV9IadR66",
        "colab_type": "code",
        "colab": {}
      },
      "source": [
        "w_restaurant_df_nm = w_restaurant_df.dropna()"
      ],
      "execution_count": 80,
      "outputs": []
    },
    {
      "cell_type": "code",
      "metadata": {
        "id": "UwAQOlxudR3z",
        "colab_type": "code",
        "colab": {
          "base_uri": "https://localhost:8080/",
          "height": 34
        },
        "outputId": "11f302ec-8ad0-4e6b-8b28-bbb3d7106adf"
      },
      "source": [
        "w_restaurant_df_nm.isnull().any().any()"
      ],
      "execution_count": 81,
      "outputs": [
        {
          "output_type": "execute_result",
          "data": {
            "text/plain": [
              "False"
            ]
          },
          "metadata": {
            "tags": []
          },
          "execution_count": 81
        }
      ]
    },
    {
      "cell_type": "code",
      "metadata": {
        "id": "7qwrRw1ddRyM",
        "colab_type": "code",
        "colab": {
          "base_uri": "https://localhost:8080/",
          "height": 51
        },
        "outputId": "a242f52d-2cbf-40be-f49e-ddaad46f707e"
      },
      "source": [
        "print(w_restaurant_df.shape)\n",
        "print(w_restaurant_df_nm.shape)"
      ],
      "execution_count": 82,
      "outputs": [
        {
          "output_type": "stream",
          "text": [
            "(246847, 32)\n",
            "(4, 32)\n"
          ],
          "name": "stdout"
        }
      ]
    },
    {
      "cell_type": "code",
      "metadata": {
        "id": "4V-DkloadRrC",
        "colab_type": "code",
        "colab": {}
      },
      "source": [
        "A = w_restaurant_df.shape[0]-w_restaurant_df_nm.shape[0]"
      ],
      "execution_count": 83,
      "outputs": []
    },
    {
      "cell_type": "code",
      "metadata": {
        "id": "r7iwuolEdQvD",
        "colab_type": "code",
        "colab": {
          "base_uri": "https://localhost:8080/",
          "height": 34
        },
        "outputId": "00026e77-2f98-4082-dab2-5c6373b9df8c"
      },
      "source": [
        "(A*100)/w_restaurant_df.shape[0]"
      ],
      "execution_count": 84,
      "outputs": [
        {
          "output_type": "execute_result",
          "data": {
            "text/plain": [
              "99.99837956304917"
            ]
          },
          "metadata": {
            "tags": []
          },
          "execution_count": 84
        }
      ]
    },
    {
      "cell_type": "markdown",
      "metadata": {
        "id": "XtYtF9QRwl6U",
        "colab_type": "text"
      },
      "source": [
        "## Method 1.5"
      ]
    },
    {
      "cell_type": "code",
      "metadata": {
        "id": "CPauTqAEdQOL",
        "colab_type": "code",
        "colab": {
          "base_uri": "https://localhost:8080/",
          "height": 0
        },
        "outputId": "7dc65d5e-df43-41be-d651-7d23ab4896f6"
      },
      "source": [
        "w_restaurant_df.isnull().any()"
      ],
      "execution_count": 85,
      "outputs": [
        {
          "output_type": "execute_result",
          "data": {
            "text/plain": [
              "id                         False\n",
              "name                       False\n",
              "domain_id                  False\n",
              "closed                     False\n",
              "city_name                  False\n",
              "zipcode                     True\n",
              "geohash                    False\n",
              "new_open                   False\n",
              "weighted_average_rating    False\n",
              "number_of_chains            True\n",
              "number_of_bookmarks         True\n",
              "number_of_reviews          False\n",
              "number_of_product_tags     False\n",
              "total_number_of_views      False\n",
              "number_of_checkins         False\n",
              "number_of_menu_groups      False\n",
              "number_of_menu_photos      False\n",
              "category_name              False\n",
              "price_range                 True\n",
              "avg_price                   True\n",
              "parking                     True\n",
              "credit_card_accepted        True\n",
              "good_for_groups             True\n",
              "good_for_kids               True\n",
              "bookable                    True\n",
              "best_of_wongnai             True\n",
              "wifi                        True\n",
              "number_of_seats             True\n",
              "music_venue                 True\n",
              "hotel_restaurant            True\n",
              "pet_friendly                True\n",
              "delivery                    True\n",
              "dtype: bool"
            ]
          },
          "metadata": {
            "tags": []
          },
          "execution_count": 85
        }
      ]
    },
    {
      "cell_type": "code",
      "metadata": {
        "id": "eTHVpDDpxpgm",
        "colab_type": "code",
        "colab": {}
      },
      "source": [
        "w_rest_dropped_avgprice = w_restaurant_df.dropna(subset=['id','name','avg_price'])"
      ],
      "execution_count": 86,
      "outputs": []
    },
    {
      "cell_type": "code",
      "metadata": {
        "id": "Nvlo9AHJxplQ",
        "colab_type": "code",
        "colab": {
          "base_uri": "https://localhost:8080/",
          "height": 0
        },
        "outputId": "73c62778-d176-4128-eb6b-7b594d21164a"
      },
      "source": [
        "w_rest_dropped_avgprice.head()"
      ],
      "execution_count": 87,
      "outputs": [
        {
          "output_type": "execute_result",
          "data": {
            "text/html": [
              "<div>\n",
              "<style scoped>\n",
              "    .dataframe tbody tr th:only-of-type {\n",
              "        vertical-align: middle;\n",
              "    }\n",
              "\n",
              "    .dataframe tbody tr th {\n",
              "        vertical-align: top;\n",
              "    }\n",
              "\n",
              "    .dataframe thead th {\n",
              "        text-align: right;\n",
              "    }\n",
              "</style>\n",
              "<table border=\"1\" class=\"dataframe\">\n",
              "  <thead>\n",
              "    <tr style=\"text-align: right;\">\n",
              "      <th></th>\n",
              "      <th>id</th>\n",
              "      <th>name</th>\n",
              "      <th>domain_id</th>\n",
              "      <th>closed</th>\n",
              "      <th>city_name</th>\n",
              "      <th>zipcode</th>\n",
              "      <th>geohash</th>\n",
              "      <th>new_open</th>\n",
              "      <th>weighted_average_rating</th>\n",
              "      <th>number_of_chains</th>\n",
              "      <th>number_of_bookmarks</th>\n",
              "      <th>number_of_reviews</th>\n",
              "      <th>number_of_product_tags</th>\n",
              "      <th>total_number_of_views</th>\n",
              "      <th>number_of_checkins</th>\n",
              "      <th>number_of_menu_groups</th>\n",
              "      <th>number_of_menu_photos</th>\n",
              "      <th>category_name</th>\n",
              "      <th>price_range</th>\n",
              "      <th>avg_price</th>\n",
              "      <th>parking</th>\n",
              "      <th>credit_card_accepted</th>\n",
              "      <th>good_for_groups</th>\n",
              "      <th>good_for_kids</th>\n",
              "      <th>bookable</th>\n",
              "      <th>best_of_wongnai</th>\n",
              "      <th>wifi</th>\n",
              "      <th>number_of_seats</th>\n",
              "      <th>music_venue</th>\n",
              "      <th>hotel_restaurant</th>\n",
              "      <th>pet_friendly</th>\n",
              "      <th>delivery</th>\n",
              "    </tr>\n",
              "  </thead>\n",
              "  <tbody>\n",
              "    <tr>\n",
              "      <th>11</th>\n",
              "      <td>27</td>\n",
              "      <td>แพอาหารธาราบุรี</td>\n",
              "      <td>1</td>\n",
              "      <td>0</td>\n",
              "      <td>Kanchanaburi</td>\n",
              "      <td>71000</td>\n",
              "      <td>w4qzbb4</td>\n",
              "      <td>0</td>\n",
              "      <td>3.568245</td>\n",
              "      <td>NaN</td>\n",
              "      <td>107.0</td>\n",
              "      <td>34</td>\n",
              "      <td>3</td>\n",
              "      <td>22277</td>\n",
              "      <td>26</td>\n",
              "      <td>0</td>\n",
              "      <td>0</td>\n",
              "      <td>Thai</td>\n",
              "      <td>3.0</td>\n",
              "      <td>375.0</td>\n",
              "      <td>3.0</td>\n",
              "      <td>1.0</td>\n",
              "      <td>1.0</td>\n",
              "      <td>1.0</td>\n",
              "      <td>1.0</td>\n",
              "      <td>NaN</td>\n",
              "      <td>NaN</td>\n",
              "      <td>2.0</td>\n",
              "      <td>NaN</td>\n",
              "      <td>NaN</td>\n",
              "      <td>NaN</td>\n",
              "      <td>NaN</td>\n",
              "    </tr>\n",
              "    <tr>\n",
              "      <th>67</th>\n",
              "      <td>123</td>\n",
              "      <td>เล็กกุ้งเผา</td>\n",
              "      <td>1</td>\n",
              "      <td>0</td>\n",
              "      <td>Bangkok Metropolitan Region</td>\n",
              "      <td>10310</td>\n",
              "      <td>w4rw9mc</td>\n",
              "      <td>0</td>\n",
              "      <td>3.685552</td>\n",
              "      <td>NaN</td>\n",
              "      <td>272.0</td>\n",
              "      <td>29</td>\n",
              "      <td>7</td>\n",
              "      <td>28697</td>\n",
              "      <td>26</td>\n",
              "      <td>0</td>\n",
              "      <td>15</td>\n",
              "      <td>Thai</td>\n",
              "      <td>3.0</td>\n",
              "      <td>375.0</td>\n",
              "      <td>1.0</td>\n",
              "      <td>0.0</td>\n",
              "      <td>NaN</td>\n",
              "      <td>NaN</td>\n",
              "      <td>NaN</td>\n",
              "      <td>NaN</td>\n",
              "      <td>NaN</td>\n",
              "      <td>NaN</td>\n",
              "      <td>NaN</td>\n",
              "      <td>NaN</td>\n",
              "      <td>NaN</td>\n",
              "      <td>NaN</td>\n",
              "    </tr>\n",
              "    <tr>\n",
              "      <th>91</th>\n",
              "      <td>175</td>\n",
              "      <td>ใต้ต้นมะม่วง</td>\n",
              "      <td>1</td>\n",
              "      <td>0</td>\n",
              "      <td>Phuket</td>\n",
              "      <td>83000</td>\n",
              "      <td>w1muz5d</td>\n",
              "      <td>0</td>\n",
              "      <td>3.857143</td>\n",
              "      <td>NaN</td>\n",
              "      <td>17.0</td>\n",
              "      <td>15</td>\n",
              "      <td>2</td>\n",
              "      <td>3278</td>\n",
              "      <td>6</td>\n",
              "      <td>0</td>\n",
              "      <td>3</td>\n",
              "      <td>Thai</td>\n",
              "      <td>1.0</td>\n",
              "      <td>50.0</td>\n",
              "      <td>1.0</td>\n",
              "      <td>0.0</td>\n",
              "      <td>1.0</td>\n",
              "      <td>1.0</td>\n",
              "      <td>0.0</td>\n",
              "      <td>NaN</td>\n",
              "      <td>0.0</td>\n",
              "      <td>2.0</td>\n",
              "      <td>NaN</td>\n",
              "      <td>NaN</td>\n",
              "      <td>NaN</td>\n",
              "      <td>NaN</td>\n",
              "    </tr>\n",
              "    <tr>\n",
              "      <th>129</th>\n",
              "      <td>262</td>\n",
              "      <td>Oniku Shabushabu &amp; Yakiniku</td>\n",
              "      <td>1</td>\n",
              "      <td>0</td>\n",
              "      <td>Surat Thani</td>\n",
              "      <td>84000</td>\n",
              "      <td>w1weuxg</td>\n",
              "      <td>0</td>\n",
              "      <td>3.633588</td>\n",
              "      <td>NaN</td>\n",
              "      <td>40.0</td>\n",
              "      <td>19</td>\n",
              "      <td>2</td>\n",
              "      <td>10349</td>\n",
              "      <td>7</td>\n",
              "      <td>0</td>\n",
              "      <td>11</td>\n",
              "      <td>Sukiyaki/Shabu</td>\n",
              "      <td>3.0</td>\n",
              "      <td>375.0</td>\n",
              "      <td>3.0</td>\n",
              "      <td>1.0</td>\n",
              "      <td>1.0</td>\n",
              "      <td>1.0</td>\n",
              "      <td>1.0</td>\n",
              "      <td>NaN</td>\n",
              "      <td>1.0</td>\n",
              "      <td>5.0</td>\n",
              "      <td>NaN</td>\n",
              "      <td>0.0</td>\n",
              "      <td>NaN</td>\n",
              "      <td>1.0</td>\n",
              "    </tr>\n",
              "    <tr>\n",
              "      <th>134</th>\n",
              "      <td>271</td>\n",
              "      <td>Cafe Cha</td>\n",
              "      <td>1</td>\n",
              "      <td>0</td>\n",
              "      <td>Bangkok Metropolitan Region</td>\n",
              "      <td>10300</td>\n",
              "      <td>w4rqrhf</td>\n",
              "      <td>0</td>\n",
              "      <td>4.094527</td>\n",
              "      <td>NaN</td>\n",
              "      <td>251.0</td>\n",
              "      <td>12</td>\n",
              "      <td>0</td>\n",
              "      <td>17775</td>\n",
              "      <td>11</td>\n",
              "      <td>0</td>\n",
              "      <td>7</td>\n",
              "      <td>Café/Coffee Shop</td>\n",
              "      <td>4.0</td>\n",
              "      <td>175.0</td>\n",
              "      <td>3.0</td>\n",
              "      <td>1.0</td>\n",
              "      <td>NaN</td>\n",
              "      <td>NaN</td>\n",
              "      <td>NaN</td>\n",
              "      <td>NaN</td>\n",
              "      <td>1.0</td>\n",
              "      <td>NaN</td>\n",
              "      <td>NaN</td>\n",
              "      <td>NaN</td>\n",
              "      <td>NaN</td>\n",
              "      <td>NaN</td>\n",
              "    </tr>\n",
              "  </tbody>\n",
              "</table>\n",
              "</div>"
            ],
            "text/plain": [
              "      id                         name  ...  pet_friendly  delivery\n",
              "11    27              แพอาหารธาราบุรี  ...           NaN       NaN\n",
              "67   123                  เล็กกุ้งเผา  ...           NaN       NaN\n",
              "91   175                 ใต้ต้นมะม่วง  ...           NaN       NaN\n",
              "129  262  Oniku Shabushabu & Yakiniku  ...           NaN       1.0\n",
              "134  271                     Cafe Cha  ...           NaN       NaN\n",
              "\n",
              "[5 rows x 32 columns]"
            ]
          },
          "metadata": {
            "tags": []
          },
          "execution_count": 87
        }
      ]
    },
    {
      "cell_type": "code",
      "metadata": {
        "id": "0vRuAE7Bxp2Z",
        "colab_type": "code",
        "colab": {
          "base_uri": "https://localhost:8080/",
          "height": 0
        },
        "outputId": "19d7eceb-7875-44f1-eb1f-399d63c173ac"
      },
      "source": [
        "w_restaurant_df.dropna(subset=['id','name','avg_price'])['avg_price'].mean()"
      ],
      "execution_count": 88,
      "outputs": [
        {
          "output_type": "execute_result",
          "data": {
            "text/plain": [
              "327.44728783902013"
            ]
          },
          "metadata": {
            "tags": []
          },
          "execution_count": 88
        }
      ]
    },
    {
      "cell_type": "markdown",
      "metadata": {
        "id": "7-WDRW8ayjOE",
        "colab_type": "text"
      },
      "source": [
        "## Method 2 (replace with reasonable value) แทนค่าด้วยตัวเลขที่เหมาะสม"
      ]
    },
    {
      "cell_type": "markdown",
      "metadata": {
        "id": "LS2qOpjbzMme",
        "colab_type": "text"
      },
      "source": [
        "### we are replacing missing value in the number of chains with 0"
      ]
    },
    {
      "cell_type": "code",
      "metadata": {
        "id": "hFHLLIg2xqVr",
        "colab_type": "code",
        "colab": {}
      },
      "source": [
        "w_restaurant_df[['number_of_chains']] = w_restaurant_df[['number_of_chains']].fillna(0)"
      ],
      "execution_count": 89,
      "outputs": []
    },
    {
      "cell_type": "code",
      "metadata": {
        "id": "EssugyF6xqYW",
        "colab_type": "code",
        "colab": {
          "base_uri": "https://localhost:8080/",
          "height": 578
        },
        "outputId": "8a39e7b9-fa30-46f3-a324-750ec6ebab04"
      },
      "source": [
        "w_restaurant_df.isnull().any()"
      ],
      "execution_count": 90,
      "outputs": [
        {
          "output_type": "execute_result",
          "data": {
            "text/plain": [
              "id                         False\n",
              "name                       False\n",
              "domain_id                  False\n",
              "closed                     False\n",
              "city_name                  False\n",
              "zipcode                     True\n",
              "geohash                    False\n",
              "new_open                   False\n",
              "weighted_average_rating    False\n",
              "number_of_chains           False\n",
              "number_of_bookmarks         True\n",
              "number_of_reviews          False\n",
              "number_of_product_tags     False\n",
              "total_number_of_views      False\n",
              "number_of_checkins         False\n",
              "number_of_menu_groups      False\n",
              "number_of_menu_photos      False\n",
              "category_name              False\n",
              "price_range                 True\n",
              "avg_price                   True\n",
              "parking                     True\n",
              "credit_card_accepted        True\n",
              "good_for_groups             True\n",
              "good_for_kids               True\n",
              "bookable                    True\n",
              "best_of_wongnai             True\n",
              "wifi                        True\n",
              "number_of_seats             True\n",
              "music_venue                 True\n",
              "hotel_restaurant            True\n",
              "pet_friendly                True\n",
              "delivery                    True\n",
              "dtype: bool"
            ]
          },
          "metadata": {
            "tags": []
          },
          "execution_count": 90
        }
      ]
    },
    {
      "cell_type": "code",
      "metadata": {
        "id": "n-jX4VO-xqOA",
        "colab_type": "code",
        "colab": {
          "base_uri": "https://localhost:8080/",
          "height": 419
        },
        "outputId": "18830716-6343-48a8-9578-847b6cd8fdb9"
      },
      "source": [
        "w_restaurant_df[['number_of_chains']]"
      ],
      "execution_count": 91,
      "outputs": [
        {
          "output_type": "execute_result",
          "data": {
            "text/html": [
              "<div>\n",
              "<style scoped>\n",
              "    .dataframe tbody tr th:only-of-type {\n",
              "        vertical-align: middle;\n",
              "    }\n",
              "\n",
              "    .dataframe tbody tr th {\n",
              "        vertical-align: top;\n",
              "    }\n",
              "\n",
              "    .dataframe thead th {\n",
              "        text-align: right;\n",
              "    }\n",
              "</style>\n",
              "<table border=\"1\" class=\"dataframe\">\n",
              "  <thead>\n",
              "    <tr style=\"text-align: right;\">\n",
              "      <th></th>\n",
              "      <th>number_of_chains</th>\n",
              "    </tr>\n",
              "  </thead>\n",
              "  <tbody>\n",
              "    <tr>\n",
              "      <th>0</th>\n",
              "      <td>0.0</td>\n",
              "    </tr>\n",
              "    <tr>\n",
              "      <th>1</th>\n",
              "      <td>0.0</td>\n",
              "    </tr>\n",
              "    <tr>\n",
              "      <th>2</th>\n",
              "      <td>0.0</td>\n",
              "    </tr>\n",
              "    <tr>\n",
              "      <th>3</th>\n",
              "      <td>0.0</td>\n",
              "    </tr>\n",
              "    <tr>\n",
              "      <th>4</th>\n",
              "      <td>0.0</td>\n",
              "    </tr>\n",
              "    <tr>\n",
              "      <th>...</th>\n",
              "      <td>...</td>\n",
              "    </tr>\n",
              "    <tr>\n",
              "      <th>246842</th>\n",
              "      <td>3.0</td>\n",
              "    </tr>\n",
              "    <tr>\n",
              "      <th>246843</th>\n",
              "      <td>0.0</td>\n",
              "    </tr>\n",
              "    <tr>\n",
              "      <th>246844</th>\n",
              "      <td>0.0</td>\n",
              "    </tr>\n",
              "    <tr>\n",
              "      <th>246845</th>\n",
              "      <td>0.0</td>\n",
              "    </tr>\n",
              "    <tr>\n",
              "      <th>246846</th>\n",
              "      <td>0.0</td>\n",
              "    </tr>\n",
              "  </tbody>\n",
              "</table>\n",
              "<p>246847 rows × 1 columns</p>\n",
              "</div>"
            ],
            "text/plain": [
              "        number_of_chains\n",
              "0                    0.0\n",
              "1                    0.0\n",
              "2                    0.0\n",
              "3                    0.0\n",
              "4                    0.0\n",
              "...                  ...\n",
              "246842               3.0\n",
              "246843               0.0\n",
              "246844               0.0\n",
              "246845               0.0\n",
              "246846               0.0\n",
              "\n",
              "[246847 rows x 1 columns]"
            ]
          },
          "metadata": {
            "tags": []
          },
          "execution_count": 91
        }
      ]
    },
    {
      "cell_type": "markdown",
      "metadata": {
        "id": "Ly4w4Y-N1XW5",
        "colab_type": "text"
      },
      "source": [
        "## Method 2.1 (replace with unknown value)\n",
        "## Method 2.2 (replace with mean)"
      ]
    },
    {
      "cell_type": "markdown",
      "metadata": {
        "id": "eFW_YiiO1onB",
        "colab_type": "text"
      },
      "source": [
        "## Method 3"
      ]
    },
    {
      "cell_type": "code",
      "metadata": {
        "id": "q7us8Tchxp0B",
        "colab_type": "code",
        "colab": {
          "base_uri": "https://localhost:8080/",
          "height": 419
        },
        "outputId": "21e2091c-6edb-411e-daae-9e8a7b1602cf"
      },
      "source": [
        "new_table = w_restaurant_df[['name','city_name','avg_price']]\n",
        "new_table"
      ],
      "execution_count": 92,
      "outputs": [
        {
          "output_type": "execute_result",
          "data": {
            "text/html": [
              "<div>\n",
              "<style scoped>\n",
              "    .dataframe tbody tr th:only-of-type {\n",
              "        vertical-align: middle;\n",
              "    }\n",
              "\n",
              "    .dataframe tbody tr th {\n",
              "        vertical-align: top;\n",
              "    }\n",
              "\n",
              "    .dataframe thead th {\n",
              "        text-align: right;\n",
              "    }\n",
              "</style>\n",
              "<table border=\"1\" class=\"dataframe\">\n",
              "  <thead>\n",
              "    <tr style=\"text-align: right;\">\n",
              "      <th></th>\n",
              "      <th>name</th>\n",
              "      <th>city_name</th>\n",
              "      <th>avg_price</th>\n",
              "    </tr>\n",
              "  </thead>\n",
              "  <tbody>\n",
              "    <tr>\n",
              "      <th>0</th>\n",
              "      <td>นครินทร์ทันตกรรม</td>\n",
              "      <td>Samut Songkhram</td>\n",
              "      <td>NaN</td>\n",
              "    </tr>\n",
              "    <tr>\n",
              "      <th>1</th>\n",
              "      <td>Corner House</td>\n",
              "      <td>Bangkok Metropolitan Region</td>\n",
              "      <td>NaN</td>\n",
              "    </tr>\n",
              "    <tr>\n",
              "      <th>2</th>\n",
              "      <td>วัดโลกยสุธาราม</td>\n",
              "      <td>Phra Nakhon Si Ayutthaya</td>\n",
              "      <td>NaN</td>\n",
              "    </tr>\n",
              "    <tr>\n",
              "      <th>3</th>\n",
              "      <td>นันท์คาราโอเกะ</td>\n",
              "      <td>Bangkok Metropolitan Region</td>\n",
              "      <td>NaN</td>\n",
              "    </tr>\n",
              "    <tr>\n",
              "      <th>4</th>\n",
              "      <td>Buono Caffe</td>\n",
              "      <td>Bangkok Metropolitan Region</td>\n",
              "      <td>NaN</td>\n",
              "    </tr>\n",
              "    <tr>\n",
              "      <th>...</th>\n",
              "      <td>...</td>\n",
              "      <td>...</td>\n",
              "      <td>...</td>\n",
              "    </tr>\n",
              "    <tr>\n",
              "      <th>246842</th>\n",
              "      <td>Sushi Tama</td>\n",
              "      <td>Bangkok Metropolitan Region</td>\n",
              "      <td>NaN</td>\n",
              "    </tr>\n",
              "    <tr>\n",
              "      <th>246843</th>\n",
              "      <td>สะบายดี คาราโอเกะ</td>\n",
              "      <td>Bangkok Metropolitan Region</td>\n",
              "      <td>NaN</td>\n",
              "    </tr>\n",
              "    <tr>\n",
              "      <th>246844</th>\n",
              "      <td>สเต็กแม่&amp;กาแฟลูก</td>\n",
              "      <td>Bangkok Metropolitan Region</td>\n",
              "      <td>NaN</td>\n",
              "    </tr>\n",
              "    <tr>\n",
              "      <th>246845</th>\n",
              "      <td>Mom Made</td>\n",
              "      <td>Nakhon Si Thammarat</td>\n",
              "      <td>NaN</td>\n",
              "    </tr>\n",
              "    <tr>\n",
              "      <th>246846</th>\n",
              "      <td>ก๋วยเตี๋ยวหมูน้ำตก ก๋วยเตี๋ยวเรือทอง</td>\n",
              "      <td>Suphan Buri</td>\n",
              "      <td>NaN</td>\n",
              "    </tr>\n",
              "  </tbody>\n",
              "</table>\n",
              "<p>246847 rows × 3 columns</p>\n",
              "</div>"
            ],
            "text/plain": [
              "                                        name  ... avg_price\n",
              "0                           นครินทร์ทันตกรรม  ...       NaN\n",
              "1                               Corner House  ...       NaN\n",
              "2                             วัดโลกยสุธาราม  ...       NaN\n",
              "3                             นันท์คาราโอเกะ  ...       NaN\n",
              "4                                Buono Caffe  ...       NaN\n",
              "...                                      ...  ...       ...\n",
              "246842                            Sushi Tama  ...       NaN\n",
              "246843                     สะบายดี คาราโอเกะ  ...       NaN\n",
              "246844                      สเต็กแม่&กาแฟลูก  ...       NaN\n",
              "246845                              Mom Made  ...       NaN\n",
              "246846  ก๋วยเตี๋ยวหมูน้ำตก ก๋วยเตี๋ยวเรือทอง  ...       NaN\n",
              "\n",
              "[246847 rows x 3 columns]"
            ]
          },
          "metadata": {
            "tags": []
          },
          "execution_count": 92
        }
      ]
    },
    {
      "cell_type": "markdown",
      "metadata": {
        "id": "RvYNPZQ83UbC",
        "colab_type": "text"
      },
      "source": [
        "##[PD] select data"
      ]
    },
    {
      "cell_type": "code",
      "metadata": {
        "id": "bH1MKAwG1TYk",
        "colab_type": "code",
        "colab": {
          "base_uri": "https://localhost:8080/",
          "height": 221
        },
        "outputId": "a3e67e10-0e00-4906-e84c-5e99dbfcba16"
      },
      "source": [
        "selected_list = new_table['city_name'] == 'Bangkok Metropolitan Region'\n",
        "selected_list "
      ],
      "execution_count": 93,
      "outputs": [
        {
          "output_type": "execute_result",
          "data": {
            "text/plain": [
              "0         False\n",
              "1          True\n",
              "2         False\n",
              "3          True\n",
              "4          True\n",
              "          ...  \n",
              "246842     True\n",
              "246843     True\n",
              "246844     True\n",
              "246845    False\n",
              "246846    False\n",
              "Name: city_name, Length: 246847, dtype: bool"
            ]
          },
          "metadata": {
            "tags": []
          },
          "execution_count": 93
        }
      ]
    },
    {
      "cell_type": "code",
      "metadata": {
        "id": "49ejT0p91Tyh",
        "colab_type": "code",
        "colab": {
          "base_uri": "https://localhost:8080/",
          "height": 204
        },
        "outputId": "046ac957-07d8-4ade-d4af-9bdeab18d69d"
      },
      "source": [
        "new_table[selected_list].head() #ตามจริงมีมากกว่านี้แต่ว่าเรา .head() มันเลยโชว์แค่หัวตาราง"
      ],
      "execution_count": 94,
      "outputs": [
        {
          "output_type": "execute_result",
          "data": {
            "text/html": [
              "<div>\n",
              "<style scoped>\n",
              "    .dataframe tbody tr th:only-of-type {\n",
              "        vertical-align: middle;\n",
              "    }\n",
              "\n",
              "    .dataframe tbody tr th {\n",
              "        vertical-align: top;\n",
              "    }\n",
              "\n",
              "    .dataframe thead th {\n",
              "        text-align: right;\n",
              "    }\n",
              "</style>\n",
              "<table border=\"1\" class=\"dataframe\">\n",
              "  <thead>\n",
              "    <tr style=\"text-align: right;\">\n",
              "      <th></th>\n",
              "      <th>name</th>\n",
              "      <th>city_name</th>\n",
              "      <th>avg_price</th>\n",
              "    </tr>\n",
              "  </thead>\n",
              "  <tbody>\n",
              "    <tr>\n",
              "      <th>1</th>\n",
              "      <td>Corner House</td>\n",
              "      <td>Bangkok Metropolitan Region</td>\n",
              "      <td>NaN</td>\n",
              "    </tr>\n",
              "    <tr>\n",
              "      <th>3</th>\n",
              "      <td>นันท์คาราโอเกะ</td>\n",
              "      <td>Bangkok Metropolitan Region</td>\n",
              "      <td>NaN</td>\n",
              "    </tr>\n",
              "    <tr>\n",
              "      <th>4</th>\n",
              "      <td>Buono Caffe</td>\n",
              "      <td>Bangkok Metropolitan Region</td>\n",
              "      <td>NaN</td>\n",
              "    </tr>\n",
              "    <tr>\n",
              "      <th>7</th>\n",
              "      <td>Sazanami</td>\n",
              "      <td>Bangkok Metropolitan Region</td>\n",
              "      <td>NaN</td>\n",
              "    </tr>\n",
              "    <tr>\n",
              "      <th>10</th>\n",
              "      <td>Rotee Me Chabu</td>\n",
              "      <td>Bangkok Metropolitan Region</td>\n",
              "      <td>NaN</td>\n",
              "    </tr>\n",
              "  </tbody>\n",
              "</table>\n",
              "</div>"
            ],
            "text/plain": [
              "              name                    city_name  avg_price\n",
              "1     Corner House  Bangkok Metropolitan Region        NaN\n",
              "3   นันท์คาราโอเกะ  Bangkok Metropolitan Region        NaN\n",
              "4      Buono Caffe  Bangkok Metropolitan Region        NaN\n",
              "7         Sazanami  Bangkok Metropolitan Region        NaN\n",
              "10  Rotee Me Chabu  Bangkok Metropolitan Region        NaN"
            ]
          },
          "metadata": {
            "tags": []
          },
          "execution_count": 94
        }
      ]
    },
    {
      "cell_type": "code",
      "metadata": {
        "id": "pcw4b7OhBReh",
        "colab_type": "code",
        "colab": {
          "base_uri": "https://localhost:8080/",
          "height": 204
        },
        "outputId": "37b1e41c-6f4b-4623-bbdf-ba8c13a5b282"
      },
      "source": [
        "new_table[new_table['city_name']=='Bangkok Metropolitan Region'].head()"
      ],
      "execution_count": 100,
      "outputs": [
        {
          "output_type": "execute_result",
          "data": {
            "text/html": [
              "<div>\n",
              "<style scoped>\n",
              "    .dataframe tbody tr th:only-of-type {\n",
              "        vertical-align: middle;\n",
              "    }\n",
              "\n",
              "    .dataframe tbody tr th {\n",
              "        vertical-align: top;\n",
              "    }\n",
              "\n",
              "    .dataframe thead th {\n",
              "        text-align: right;\n",
              "    }\n",
              "</style>\n",
              "<table border=\"1\" class=\"dataframe\">\n",
              "  <thead>\n",
              "    <tr style=\"text-align: right;\">\n",
              "      <th></th>\n",
              "      <th>name</th>\n",
              "      <th>city_name</th>\n",
              "      <th>avg_price</th>\n",
              "    </tr>\n",
              "  </thead>\n",
              "  <tbody>\n",
              "    <tr>\n",
              "      <th>1</th>\n",
              "      <td>Corner House</td>\n",
              "      <td>Bangkok Metropolitan Region</td>\n",
              "      <td>NaN</td>\n",
              "    </tr>\n",
              "    <tr>\n",
              "      <th>3</th>\n",
              "      <td>นันท์คาราโอเกะ</td>\n",
              "      <td>Bangkok Metropolitan Region</td>\n",
              "      <td>NaN</td>\n",
              "    </tr>\n",
              "    <tr>\n",
              "      <th>4</th>\n",
              "      <td>Buono Caffe</td>\n",
              "      <td>Bangkok Metropolitan Region</td>\n",
              "      <td>NaN</td>\n",
              "    </tr>\n",
              "    <tr>\n",
              "      <th>7</th>\n",
              "      <td>Sazanami</td>\n",
              "      <td>Bangkok Metropolitan Region</td>\n",
              "      <td>NaN</td>\n",
              "    </tr>\n",
              "    <tr>\n",
              "      <th>10</th>\n",
              "      <td>Rotee Me Chabu</td>\n",
              "      <td>Bangkok Metropolitan Region</td>\n",
              "      <td>NaN</td>\n",
              "    </tr>\n",
              "  </tbody>\n",
              "</table>\n",
              "</div>"
            ],
            "text/plain": [
              "              name                    city_name  avg_price\n",
              "1     Corner House  Bangkok Metropolitan Region        NaN\n",
              "3   นันท์คาราโอเกะ  Bangkok Metropolitan Region        NaN\n",
              "4      Buono Caffe  Bangkok Metropolitan Region        NaN\n",
              "7         Sazanami  Bangkok Metropolitan Region        NaN\n",
              "10  Rotee Me Chabu  Bangkok Metropolitan Region        NaN"
            ]
          },
          "metadata": {
            "tags": []
          },
          "execution_count": 100
        }
      ]
    },
    {
      "cell_type": "markdown",
      "metadata": {
        "id": "yHNiorT05v2V",
        "colab_type": "text"
      },
      "source": [
        "## หาราคาเฉลี่ยของร้านในจังหวัด กทม."
      ]
    },
    {
      "cell_type": "code",
      "metadata": {
        "id": "mdmJ5tlu1UBB",
        "colab_type": "code",
        "colab": {
          "base_uri": "https://localhost:8080/",
          "height": 34
        },
        "outputId": "dddf791c-4c27-43a0-aa40-baca4a2f1ce7"
      },
      "source": [
        "new_table[new_table['city_name']=='Bangkok Metropolitan Region'].dropna()['avg_price'].mean()"
      ],
      "execution_count": 101,
      "outputs": [
        {
          "output_type": "execute_result",
          "data": {
            "text/plain": [
              "392.5854715094968"
            ]
          },
          "metadata": {
            "tags": []
          },
          "execution_count": 101
        }
      ]
    },
    {
      "cell_type": "markdown",
      "metadata": {
        "id": "51-sspCcBcW7",
        "colab_type": "text"
      },
      "source": [
        "1. เลือกเฉพาะ กทม"
      ]
    },
    {
      "cell_type": "code",
      "metadata": {
        "id": "TsGS3xnDBdQe",
        "colab_type": "code",
        "colab": {
          "base_uri": "https://localhost:8080/",
          "height": 204
        },
        "outputId": "fdaa0d67-af43-414d-e4b1-49f62ce204e3"
      },
      "source": [
        "bkk_table = new_table[new_table['city_name']=='Bangkok Metropolitan Region']\n",
        "bkk_table.head()"
      ],
      "execution_count": 102,
      "outputs": [
        {
          "output_type": "execute_result",
          "data": {
            "text/html": [
              "<div>\n",
              "<style scoped>\n",
              "    .dataframe tbody tr th:only-of-type {\n",
              "        vertical-align: middle;\n",
              "    }\n",
              "\n",
              "    .dataframe tbody tr th {\n",
              "        vertical-align: top;\n",
              "    }\n",
              "\n",
              "    .dataframe thead th {\n",
              "        text-align: right;\n",
              "    }\n",
              "</style>\n",
              "<table border=\"1\" class=\"dataframe\">\n",
              "  <thead>\n",
              "    <tr style=\"text-align: right;\">\n",
              "      <th></th>\n",
              "      <th>name</th>\n",
              "      <th>city_name</th>\n",
              "      <th>avg_price</th>\n",
              "    </tr>\n",
              "  </thead>\n",
              "  <tbody>\n",
              "    <tr>\n",
              "      <th>1</th>\n",
              "      <td>Corner House</td>\n",
              "      <td>Bangkok Metropolitan Region</td>\n",
              "      <td>NaN</td>\n",
              "    </tr>\n",
              "    <tr>\n",
              "      <th>3</th>\n",
              "      <td>นันท์คาราโอเกะ</td>\n",
              "      <td>Bangkok Metropolitan Region</td>\n",
              "      <td>NaN</td>\n",
              "    </tr>\n",
              "    <tr>\n",
              "      <th>4</th>\n",
              "      <td>Buono Caffe</td>\n",
              "      <td>Bangkok Metropolitan Region</td>\n",
              "      <td>NaN</td>\n",
              "    </tr>\n",
              "    <tr>\n",
              "      <th>7</th>\n",
              "      <td>Sazanami</td>\n",
              "      <td>Bangkok Metropolitan Region</td>\n",
              "      <td>NaN</td>\n",
              "    </tr>\n",
              "    <tr>\n",
              "      <th>10</th>\n",
              "      <td>Rotee Me Chabu</td>\n",
              "      <td>Bangkok Metropolitan Region</td>\n",
              "      <td>NaN</td>\n",
              "    </tr>\n",
              "  </tbody>\n",
              "</table>\n",
              "</div>"
            ],
            "text/plain": [
              "              name                    city_name  avg_price\n",
              "1     Corner House  Bangkok Metropolitan Region        NaN\n",
              "3   นันท์คาราโอเกะ  Bangkok Metropolitan Region        NaN\n",
              "4      Buono Caffe  Bangkok Metropolitan Region        NaN\n",
              "7         Sazanami  Bangkok Metropolitan Region        NaN\n",
              "10  Rotee Me Chabu  Bangkok Metropolitan Region        NaN"
            ]
          },
          "metadata": {
            "tags": []
          },
          "execution_count": 102
        }
      ]
    },
    {
      "cell_type": "markdown",
      "metadata": {
        "id": "nfouHcbgBjho",
        "colab_type": "text"
      },
      "source": [
        "2. ลบ missing"
      ]
    },
    {
      "cell_type": "code",
      "metadata": {
        "id": "IDjC_SHkBmos",
        "colab_type": "code",
        "colab": {
          "base_uri": "https://localhost:8080/",
          "height": 204
        },
        "outputId": "b8e79ada-a235-48f6-ac37-7919c3209fa4"
      },
      "source": [
        "bkk_table_dp = bkk_table.dropna()\n",
        "bkk_table_dp.head()"
      ],
      "execution_count": 103,
      "outputs": [
        {
          "output_type": "execute_result",
          "data": {
            "text/html": [
              "<div>\n",
              "<style scoped>\n",
              "    .dataframe tbody tr th:only-of-type {\n",
              "        vertical-align: middle;\n",
              "    }\n",
              "\n",
              "    .dataframe tbody tr th {\n",
              "        vertical-align: top;\n",
              "    }\n",
              "\n",
              "    .dataframe thead th {\n",
              "        text-align: right;\n",
              "    }\n",
              "</style>\n",
              "<table border=\"1\" class=\"dataframe\">\n",
              "  <thead>\n",
              "    <tr style=\"text-align: right;\">\n",
              "      <th></th>\n",
              "      <th>name</th>\n",
              "      <th>city_name</th>\n",
              "      <th>avg_price</th>\n",
              "    </tr>\n",
              "  </thead>\n",
              "  <tbody>\n",
              "    <tr>\n",
              "      <th>67</th>\n",
              "      <td>เล็กกุ้งเผา</td>\n",
              "      <td>Bangkok Metropolitan Region</td>\n",
              "      <td>375.0</td>\n",
              "    </tr>\n",
              "    <tr>\n",
              "      <th>134</th>\n",
              "      <td>Cafe Cha</td>\n",
              "      <td>Bangkok Metropolitan Region</td>\n",
              "      <td>175.0</td>\n",
              "    </tr>\n",
              "    <tr>\n",
              "      <th>247</th>\n",
              "      <td>Masterpiece clinic</td>\n",
              "      <td>Bangkok Metropolitan Region</td>\n",
              "      <td>1500.0</td>\n",
              "    </tr>\n",
              "    <tr>\n",
              "      <th>319</th>\n",
              "      <td>Chaba Nails &amp; Eyelashes Pro</td>\n",
              "      <td>Bangkok Metropolitan Region</td>\n",
              "      <td>375.0</td>\n",
              "    </tr>\n",
              "    <tr>\n",
              "      <th>382</th>\n",
              "      <td>Panlee Bakery</td>\n",
              "      <td>Bangkok Metropolitan Region</td>\n",
              "      <td>175.0</td>\n",
              "    </tr>\n",
              "  </tbody>\n",
              "</table>\n",
              "</div>"
            ],
            "text/plain": [
              "                            name                    city_name  avg_price\n",
              "67                   เล็กกุ้งเผา  Bangkok Metropolitan Region      375.0\n",
              "134                     Cafe Cha  Bangkok Metropolitan Region      175.0\n",
              "247           Masterpiece clinic  Bangkok Metropolitan Region     1500.0\n",
              "319  Chaba Nails & Eyelashes Pro  Bangkok Metropolitan Region      375.0\n",
              "382                Panlee Bakery  Bangkok Metropolitan Region      175.0"
            ]
          },
          "metadata": {
            "tags": []
          },
          "execution_count": 103
        }
      ]
    },
    {
      "cell_type": "markdown",
      "metadata": {
        "id": "OBqucHjgBqew",
        "colab_type": "text"
      },
      "source": [
        "3 เลือกเฉพาะ column 'avg_price'"
      ]
    },
    {
      "cell_type": "code",
      "metadata": {
        "id": "Dbfp-810BrNL",
        "colab_type": "code",
        "colab": {
          "base_uri": "https://localhost:8080/",
          "height": 221
        },
        "outputId": "d4b8b13a-af3c-4765-997e-6892138833fc"
      },
      "source": [
        "bkk_table_dp_avg_price = bkk_table_dp['avg_price']\n",
        "bkk_table_dp_avg_price"
      ],
      "execution_count": 104,
      "outputs": [
        {
          "output_type": "execute_result",
          "data": {
            "text/plain": [
              "67         375.0\n",
              "134        175.0\n",
              "247       1500.0\n",
              "319        375.0\n",
              "382        175.0\n",
              "           ...  \n",
              "246458      50.0\n",
              "246472    1500.0\n",
              "246508     375.0\n",
              "246666     375.0\n",
              "246721     375.0\n",
              "Name: avg_price, Length: 3001, dtype: float64"
            ]
          },
          "metadata": {
            "tags": []
          },
          "execution_count": 104
        }
      ]
    },
    {
      "cell_type": "markdown",
      "metadata": {
        "id": "E5aQkIsEBwdd",
        "colab_type": "text"
      },
      "source": [
        "4 หาค่าเฉลี่ย\n"
      ]
    },
    {
      "cell_type": "code",
      "metadata": {
        "id": "u8p71o1MBxHj",
        "colab_type": "code",
        "colab": {
          "base_uri": "https://localhost:8080/",
          "height": 34
        },
        "outputId": "aedc9f8c-0436-4efb-f4b8-28c69871e494"
      },
      "source": [
        "bkk_table_dp_avg_price.mean()"
      ],
      "execution_count": 105,
      "outputs": [
        {
          "output_type": "execute_result",
          "data": {
            "text/plain": [
              "392.5854715094968"
            ]
          },
          "metadata": {
            "tags": []
          },
          "execution_count": 105
        }
      ]
    },
    {
      "cell_type": "markdown",
      "metadata": {
        "id": "gCNMnyqqB29Z",
        "colab_type": "text"
      },
      "source": [
        "## แก้ missing method 3 เติมค่าที่เหมาะสมตามกลุ่มของมัน"
      ]
    },
    {
      "cell_type": "code",
      "metadata": {
        "id": "UG1kriWAB5Iv",
        "colab_type": "code",
        "colab": {
          "base_uri": "https://localhost:8080/",
          "height": 306
        },
        "outputId": "c079775d-3514-406e-d200-55be8df4efb9"
      },
      "source": [
        "bkk_table[['avg_price']] = bkk_table[['avg_price']].fillna(bkk_table_dp_avg_price.mean())\n",
        "bkk_table.head()"
      ],
      "execution_count": 106,
      "outputs": [
        {
          "output_type": "stream",
          "text": [
            "/usr/local/lib/python3.6/dist-packages/pandas/core/frame.py:2963: SettingWithCopyWarning: \n",
            "A value is trying to be set on a copy of a slice from a DataFrame.\n",
            "Try using .loc[row_indexer,col_indexer] = value instead\n",
            "\n",
            "See the caveats in the documentation: https://pandas.pydata.org/pandas-docs/stable/user_guide/indexing.html#returning-a-view-versus-a-copy\n",
            "  self[k1] = value[k2]\n"
          ],
          "name": "stderr"
        },
        {
          "output_type": "execute_result",
          "data": {
            "text/html": [
              "<div>\n",
              "<style scoped>\n",
              "    .dataframe tbody tr th:only-of-type {\n",
              "        vertical-align: middle;\n",
              "    }\n",
              "\n",
              "    .dataframe tbody tr th {\n",
              "        vertical-align: top;\n",
              "    }\n",
              "\n",
              "    .dataframe thead th {\n",
              "        text-align: right;\n",
              "    }\n",
              "</style>\n",
              "<table border=\"1\" class=\"dataframe\">\n",
              "  <thead>\n",
              "    <tr style=\"text-align: right;\">\n",
              "      <th></th>\n",
              "      <th>name</th>\n",
              "      <th>city_name</th>\n",
              "      <th>avg_price</th>\n",
              "    </tr>\n",
              "  </thead>\n",
              "  <tbody>\n",
              "    <tr>\n",
              "      <th>1</th>\n",
              "      <td>Corner House</td>\n",
              "      <td>Bangkok Metropolitan Region</td>\n",
              "      <td>392.585472</td>\n",
              "    </tr>\n",
              "    <tr>\n",
              "      <th>3</th>\n",
              "      <td>นันท์คาราโอเกะ</td>\n",
              "      <td>Bangkok Metropolitan Region</td>\n",
              "      <td>392.585472</td>\n",
              "    </tr>\n",
              "    <tr>\n",
              "      <th>4</th>\n",
              "      <td>Buono Caffe</td>\n",
              "      <td>Bangkok Metropolitan Region</td>\n",
              "      <td>392.585472</td>\n",
              "    </tr>\n",
              "    <tr>\n",
              "      <th>7</th>\n",
              "      <td>Sazanami</td>\n",
              "      <td>Bangkok Metropolitan Region</td>\n",
              "      <td>392.585472</td>\n",
              "    </tr>\n",
              "    <tr>\n",
              "      <th>10</th>\n",
              "      <td>Rotee Me Chabu</td>\n",
              "      <td>Bangkok Metropolitan Region</td>\n",
              "      <td>392.585472</td>\n",
              "    </tr>\n",
              "  </tbody>\n",
              "</table>\n",
              "</div>"
            ],
            "text/plain": [
              "              name                    city_name   avg_price\n",
              "1     Corner House  Bangkok Metropolitan Region  392.585472\n",
              "3   นันท์คาราโอเกะ  Bangkok Metropolitan Region  392.585472\n",
              "4      Buono Caffe  Bangkok Metropolitan Region  392.585472\n",
              "7         Sazanami  Bangkok Metropolitan Region  392.585472\n",
              "10  Rotee Me Chabu  Bangkok Metropolitan Region  392.585472"
            ]
          },
          "metadata": {
            "tags": []
          },
          "execution_count": 106
        }
      ]
    },
    {
      "cell_type": "code",
      "metadata": {
        "id": "XHXSZQwRB5wJ",
        "colab_type": "code",
        "colab": {}
      },
      "source": [
        "#bkk_table[['avg_price']].fillna(bkk_table_dp_avg_price.mean(),inplace=True)\n",
        "#bkk_table.head()"
      ],
      "execution_count": 107,
      "outputs": []
    },
    {
      "cell_type": "code",
      "metadata": {
        "id": "zQfCqziO1URx",
        "colab_type": "code",
        "colab": {
          "base_uri": "https://localhost:8080/",
          "height": 204
        },
        "outputId": "d5f0df59-1560-4f69-d9a2-b17fae7eb774"
      },
      "source": [
        "Phuket_table = new_table[new_table['city_name']=='Phuket']\n",
        "Phuket_table.head()"
      ],
      "execution_count": 108,
      "outputs": [
        {
          "output_type": "execute_result",
          "data": {
            "text/html": [
              "<div>\n",
              "<style scoped>\n",
              "    .dataframe tbody tr th:only-of-type {\n",
              "        vertical-align: middle;\n",
              "    }\n",
              "\n",
              "    .dataframe tbody tr th {\n",
              "        vertical-align: top;\n",
              "    }\n",
              "\n",
              "    .dataframe thead th {\n",
              "        text-align: right;\n",
              "    }\n",
              "</style>\n",
              "<table border=\"1\" class=\"dataframe\">\n",
              "  <thead>\n",
              "    <tr style=\"text-align: right;\">\n",
              "      <th></th>\n",
              "      <th>name</th>\n",
              "      <th>city_name</th>\n",
              "      <th>avg_price</th>\n",
              "    </tr>\n",
              "  </thead>\n",
              "  <tbody>\n",
              "    <tr>\n",
              "      <th>53</th>\n",
              "      <td>เดอะฟอร์เต้ไอซ์แลนด์</td>\n",
              "      <td>Phuket</td>\n",
              "      <td>NaN</td>\n",
              "    </tr>\n",
              "    <tr>\n",
              "      <th>74</th>\n",
              "      <td>ร้านอาหารในยางปาร์ค</td>\n",
              "      <td>Phuket</td>\n",
              "      <td>NaN</td>\n",
              "    </tr>\n",
              "    <tr>\n",
              "      <th>91</th>\n",
              "      <td>ใต้ต้นมะม่วง</td>\n",
              "      <td>Phuket</td>\n",
              "      <td>50.0</td>\n",
              "    </tr>\n",
              "    <tr>\n",
              "      <th>96</th>\n",
              "      <td>อาหารเกาหลีชินจอง</td>\n",
              "      <td>Phuket</td>\n",
              "      <td>NaN</td>\n",
              "    </tr>\n",
              "    <tr>\n",
              "      <th>190</th>\n",
              "      <td>ไชน่าอินน์</td>\n",
              "      <td>Phuket</td>\n",
              "      <td>NaN</td>\n",
              "    </tr>\n",
              "  </tbody>\n",
              "</table>\n",
              "</div>"
            ],
            "text/plain": [
              "                     name city_name  avg_price\n",
              "53   เดอะฟอร์เต้ไอซ์แลนด์    Phuket        NaN\n",
              "74    ร้านอาหารในยางปาร์ค    Phuket        NaN\n",
              "91           ใต้ต้นมะม่วง    Phuket       50.0\n",
              "96      อาหารเกาหลีชินจอง    Phuket        NaN\n",
              "190            ไชน่าอินน์    Phuket        NaN"
            ]
          },
          "metadata": {
            "tags": []
          },
          "execution_count": 108
        }
      ]
    },
    {
      "cell_type": "markdown",
      "metadata": {
        "id": "g7djGN687jCx",
        "colab_type": "text"
      },
      "source": [
        "# HW9 หาราคาเฉลี่ยของร้านในจังหวัดภูเก็ตและเติมแทนค่า missing ของจังหวัดภูเก็ต"
      ]
    },
    {
      "cell_type": "code",
      "metadata": {
        "id": "AYCfhVkc1Uj0",
        "colab_type": "code",
        "colab": {
          "base_uri": "https://localhost:8080/",
          "height": 306
        },
        "outputId": "96a2b7c9-ee12-43a5-d932-6b12128b5afd"
      },
      "source": [
        "pk_table = new_table[new_table['city_name']=='Phuket']\n",
        "pk_table[['avg_price']] = pk_table[['avg_price']].fillna(new_table[new_table['city_name']=='Phuket'].dropna()['avg_price'].mean())\n",
        "pk_table.head()"
      ],
      "execution_count": 109,
      "outputs": [
        {
          "output_type": "stream",
          "text": [
            "/usr/local/lib/python3.6/dist-packages/pandas/core/frame.py:2963: SettingWithCopyWarning: \n",
            "A value is trying to be set on a copy of a slice from a DataFrame.\n",
            "Try using .loc[row_indexer,col_indexer] = value instead\n",
            "\n",
            "See the caveats in the documentation: https://pandas.pydata.org/pandas-docs/stable/user_guide/indexing.html#returning-a-view-versus-a-copy\n",
            "  self[k1] = value[k2]\n"
          ],
          "name": "stderr"
        },
        {
          "output_type": "execute_result",
          "data": {
            "text/html": [
              "<div>\n",
              "<style scoped>\n",
              "    .dataframe tbody tr th:only-of-type {\n",
              "        vertical-align: middle;\n",
              "    }\n",
              "\n",
              "    .dataframe tbody tr th {\n",
              "        vertical-align: top;\n",
              "    }\n",
              "\n",
              "    .dataframe thead th {\n",
              "        text-align: right;\n",
              "    }\n",
              "</style>\n",
              "<table border=\"1\" class=\"dataframe\">\n",
              "  <thead>\n",
              "    <tr style=\"text-align: right;\">\n",
              "      <th></th>\n",
              "      <th>name</th>\n",
              "      <th>city_name</th>\n",
              "      <th>avg_price</th>\n",
              "    </tr>\n",
              "  </thead>\n",
              "  <tbody>\n",
              "    <tr>\n",
              "      <th>53</th>\n",
              "      <td>เดอะฟอร์เต้ไอซ์แลนด์</td>\n",
              "      <td>Phuket</td>\n",
              "      <td>181.481481</td>\n",
              "    </tr>\n",
              "    <tr>\n",
              "      <th>74</th>\n",
              "      <td>ร้านอาหารในยางปาร์ค</td>\n",
              "      <td>Phuket</td>\n",
              "      <td>181.481481</td>\n",
              "    </tr>\n",
              "    <tr>\n",
              "      <th>91</th>\n",
              "      <td>ใต้ต้นมะม่วง</td>\n",
              "      <td>Phuket</td>\n",
              "      <td>50.000000</td>\n",
              "    </tr>\n",
              "    <tr>\n",
              "      <th>96</th>\n",
              "      <td>อาหารเกาหลีชินจอง</td>\n",
              "      <td>Phuket</td>\n",
              "      <td>181.481481</td>\n",
              "    </tr>\n",
              "    <tr>\n",
              "      <th>190</th>\n",
              "      <td>ไชน่าอินน์</td>\n",
              "      <td>Phuket</td>\n",
              "      <td>181.481481</td>\n",
              "    </tr>\n",
              "  </tbody>\n",
              "</table>\n",
              "</div>"
            ],
            "text/plain": [
              "                     name city_name   avg_price\n",
              "53   เดอะฟอร์เต้ไอซ์แลนด์    Phuket  181.481481\n",
              "74    ร้านอาหารในยางปาร์ค    Phuket  181.481481\n",
              "91           ใต้ต้นมะม่วง    Phuket   50.000000\n",
              "96      อาหารเกาหลีชินจอง    Phuket  181.481481\n",
              "190            ไชน่าอินน์    Phuket  181.481481"
            ]
          },
          "metadata": {
            "tags": []
          },
          "execution_count": 109
        }
      ]
    },
    {
      "cell_type": "code",
      "metadata": {
        "id": "qtbQ4VYW1U2I",
        "colab_type": "code",
        "colab": {
          "base_uri": "https://localhost:8080/",
          "height": 306
        },
        "outputId": "dc417b43-9634-459d-e52e-f8fb13d90319"
      },
      "source": [
        "ch_table = new_table[new_table['city_name']=='Chon Buri']\n",
        "ch_table[['avg_price']] = ch_table[['avg_price']].fillna(new_table[new_table['city_name']=='Chon Buri'].dropna()['avg_price'].mean())\n",
        "ch_table.head()"
      ],
      "execution_count": 98,
      "outputs": [
        {
          "output_type": "stream",
          "text": [
            "/usr/local/lib/python3.6/dist-packages/pandas/core/frame.py:2963: SettingWithCopyWarning: \n",
            "A value is trying to be set on a copy of a slice from a DataFrame.\n",
            "Try using .loc[row_indexer,col_indexer] = value instead\n",
            "\n",
            "See the caveats in the documentation: https://pandas.pydata.org/pandas-docs/stable/user_guide/indexing.html#returning-a-view-versus-a-copy\n",
            "  self[k1] = value[k2]\n"
          ],
          "name": "stderr"
        },
        {
          "output_type": "execute_result",
          "data": {
            "text/html": [
              "<div>\n",
              "<style scoped>\n",
              "    .dataframe tbody tr th:only-of-type {\n",
              "        vertical-align: middle;\n",
              "    }\n",
              "\n",
              "    .dataframe tbody tr th {\n",
              "        vertical-align: top;\n",
              "    }\n",
              "\n",
              "    .dataframe thead th {\n",
              "        text-align: right;\n",
              "    }\n",
              "</style>\n",
              "<table border=\"1\" class=\"dataframe\">\n",
              "  <thead>\n",
              "    <tr style=\"text-align: right;\">\n",
              "      <th></th>\n",
              "      <th>name</th>\n",
              "      <th>city_name</th>\n",
              "      <th>avg_price</th>\n",
              "    </tr>\n",
              "  </thead>\n",
              "  <tbody>\n",
              "    <tr>\n",
              "      <th>5</th>\n",
              "      <td>บ้านมุมสบาย</td>\n",
              "      <td>Chon Buri</td>\n",
              "      <td>283.547619</td>\n",
              "    </tr>\n",
              "    <tr>\n",
              "      <th>15</th>\n",
              "      <td>The Rabbit หมูกระทะนานาชาติ</td>\n",
              "      <td>Chon Buri</td>\n",
              "      <td>283.547619</td>\n",
              "    </tr>\n",
              "    <tr>\n",
              "      <th>42</th>\n",
              "      <td>ก๋วยเตี๋ยวเป็ด ณ.พัทยา</td>\n",
              "      <td>Chon Buri</td>\n",
              "      <td>283.547619</td>\n",
              "    </tr>\n",
              "    <tr>\n",
              "      <th>45</th>\n",
              "      <td>ซันเซ็ทพาร์ครีสอร์ตแอนด์สปา</td>\n",
              "      <td>Chon Buri</td>\n",
              "      <td>283.547619</td>\n",
              "    </tr>\n",
              "    <tr>\n",
              "      <th>68</th>\n",
              "      <td>Oldies Bar &amp; Bistro</td>\n",
              "      <td>Chon Buri</td>\n",
              "      <td>283.547619</td>\n",
              "    </tr>\n",
              "  </tbody>\n",
              "</table>\n",
              "</div>"
            ],
            "text/plain": [
              "                           name  city_name   avg_price\n",
              "5                   บ้านมุมสบาย  Chon Buri  283.547619\n",
              "15  The Rabbit หมูกระทะนานาชาติ  Chon Buri  283.547619\n",
              "42       ก๋วยเตี๋ยวเป็ด ณ.พัทยา  Chon Buri  283.547619\n",
              "45  ซันเซ็ทพาร์ครีสอร์ตแอนด์สปา  Chon Buri  283.547619\n",
              "68          Oldies Bar & Bistro  Chon Buri  283.547619"
            ]
          },
          "metadata": {
            "tags": []
          },
          "execution_count": 98
        }
      ]
    },
    {
      "cell_type": "markdown",
      "metadata": {
        "id": "zuEmvZeB-q1d",
        "colab_type": "text"
      },
      "source": [
        "## [PD] ต่อตารางในแนวแกน Y (เพิ่มจำนวน data) pd.concat"
      ]
    },
    {
      "cell_type": "code",
      "metadata": {
        "id": "aWFTzIj31Us-",
        "colab_type": "code",
        "colab": {
          "base_uri": "https://localhost:8080/",
          "height": 85
        },
        "outputId": "a5c05cd1-ff3c-46d4-ec20-ca3200cb9910"
      },
      "source": [
        "pandas.concat([bkk_table,pk_table,ch_table]).isnull().any()"
      ],
      "execution_count": 110,
      "outputs": [
        {
          "output_type": "execute_result",
          "data": {
            "text/plain": [
              "name         False\n",
              "city_name    False\n",
              "avg_price    False\n",
              "dtype: bool"
            ]
          },
          "metadata": {
            "tags": []
          },
          "execution_count": 110
        }
      ]
    },
    {
      "cell_type": "markdown",
      "metadata": {
        "id": "EF1aipHJ_ciM",
        "colab_type": "text"
      },
      "source": [
        "## Looping (concat)"
      ]
    },
    {
      "cell_type": "markdown",
      "metadata": {
        "id": "qPYLUdrS_pZn",
        "colab_type": "text"
      },
      "source": [
        "### 1. ดึงจังหวัดที่มีอยู่ทั้งหมดในตารางออกมา"
      ]
    },
    {
      "cell_type": "code",
      "metadata": {
        "id": "cjeBQZwd1UZt",
        "colab_type": "code",
        "colab": {
          "base_uri": "https://localhost:8080/",
          "height": 34
        },
        "outputId": "1ee58c48-ca65-4168-b1ba-7dd1e500c94e"
      },
      "source": [
        "all_cities = set(new_table['city_name'])\n",
        "print(len(all_cities))\n",
        "#all_cities"
      ],
      "execution_count": 111,
      "outputs": [
        {
          "output_type": "stream",
          "text": [
            "479\n"
          ],
          "name": "stdout"
        }
      ]
    },
    {
      "cell_type": "markdown",
      "metadata": {
        "id": "SQF6BRsr_t4r",
        "colab_type": "text"
      },
      "source": [
        "### 2. จะคำนวณค่า mean ของ column 'city_name' เพื่อเก็บไว้เติมใส่\n",
        "\n",
        "### เมืองที่เป็น missing ทุกร้าน "
      ]
    },
    {
      "cell_type": "code",
      "metadata": {
        "id": "swwWZ59o1UK0",
        "colab_type": "code",
        "colab": {
          "base_uri": "https://localhost:8080/",
          "height": 34
        },
        "outputId": "abc319fd-b933-43e9-bd93-94b60eef82eb"
      },
      "source": [
        "all_mean = new_table.dropna(subset=['avg_price'])['avg_price'].mean()\n",
        "all_mean"
      ],
      "execution_count": 112,
      "outputs": [
        {
          "output_type": "execute_result",
          "data": {
            "text/plain": [
              "327.44728783902013"
            ]
          },
          "metadata": {
            "tags": []
          },
          "execution_count": 112
        }
      ]
    },
    {
      "cell_type": "markdown",
      "metadata": {
        "id": "Fx7NBH2X_zOz",
        "colab_type": "text"
      },
      "source": [
        "## 3. สร้าง list ของตารางของทุกๆจังหวัด"
      ]
    },
    {
      "cell_type": "code",
      "metadata": {
        "id": "p4TIDRF51T5w",
        "colab_type": "code",
        "colab": {
          "base_uri": "https://localhost:8080/",
          "height": 119
        },
        "outputId": "9ce745cc-b64c-4cd5-d795-5c96cb8c7a02"
      },
      "source": [
        "all_cities_list = []\n",
        "for each_city in sorted(list(all_cities)):\n",
        "    temp_table = new_table[new_table['city_name']==each_city]\n",
        "    temp_table[['avg_price']] = temp_table[['avg_price']].fillna(new_table[new_table['city_name']==each_city].dropna()['avg_price'].mean())\n",
        "    all_cities_list.append(temp_table)"
      ],
      "execution_count": 113,
      "outputs": [
        {
          "output_type": "stream",
          "text": [
            "/usr/local/lib/python3.6/dist-packages/pandas/core/frame.py:2963: SettingWithCopyWarning: \n",
            "A value is trying to be set on a copy of a slice from a DataFrame.\n",
            "Try using .loc[row_indexer,col_indexer] = value instead\n",
            "\n",
            "See the caveats in the documentation: https://pandas.pydata.org/pandas-docs/stable/user_guide/indexing.html#returning-a-view-versus-a-copy\n",
            "  self[k1] = value[k2]\n"
          ],
          "name": "stderr"
        }
      ]
    },
    {
      "cell_type": "code",
      "metadata": {
        "id": "1iC-0bk11Tqg",
        "colab_type": "code",
        "colab": {
          "base_uri": "https://localhost:8080/",
          "height": 204
        },
        "outputId": "9d9625d9-d1fe-4780-b8b8-dbc979f394cd"
      },
      "source": [
        "no_missing = pandas.concat(all_cities_list).fillna(all_mean)\n",
        "no_missing.head()"
      ],
      "execution_count": 114,
      "outputs": [
        {
          "output_type": "execute_result",
          "data": {
            "text/html": [
              "<div>\n",
              "<style scoped>\n",
              "    .dataframe tbody tr th:only-of-type {\n",
              "        vertical-align: middle;\n",
              "    }\n",
              "\n",
              "    .dataframe tbody tr th {\n",
              "        vertical-align: top;\n",
              "    }\n",
              "\n",
              "    .dataframe thead th {\n",
              "        text-align: right;\n",
              "    }\n",
              "</style>\n",
              "<table border=\"1\" class=\"dataframe\">\n",
              "  <thead>\n",
              "    <tr style=\"text-align: right;\">\n",
              "      <th></th>\n",
              "      <th>name</th>\n",
              "      <th>city_name</th>\n",
              "      <th>avg_price</th>\n",
              "    </tr>\n",
              "  </thead>\n",
              "  <tbody>\n",
              "    <tr>\n",
              "      <th>56391</th>\n",
              "      <td>Smoking Doll Nation Galleria</td>\n",
              "      <td>Abu Dhabi</td>\n",
              "      <td>327.447288</td>\n",
              "    </tr>\n",
              "    <tr>\n",
              "      <th>67914</th>\n",
              "      <td>PRET TO GO (Terminal 1)</td>\n",
              "      <td>Abu Dhabi</td>\n",
              "      <td>327.447288</td>\n",
              "    </tr>\n",
              "    <tr>\n",
              "      <th>123536</th>\n",
              "      <td>Keway Mai</td>\n",
              "      <td>Abu Dhabi</td>\n",
              "      <td>327.447288</td>\n",
              "    </tr>\n",
              "    <tr>\n",
              "      <th>142972</th>\n",
              "      <td>La Brioche</td>\n",
              "      <td>Abu Dhabi</td>\n",
              "      <td>327.447288</td>\n",
              "    </tr>\n",
              "    <tr>\n",
              "      <th>223144</th>\n",
              "      <td>White Dot Table</td>\n",
              "      <td>Abu Dhabi</td>\n",
              "      <td>327.447288</td>\n",
              "    </tr>\n",
              "  </tbody>\n",
              "</table>\n",
              "</div>"
            ],
            "text/plain": [
              "                                name  city_name   avg_price\n",
              "56391   Smoking Doll Nation Galleria  Abu Dhabi  327.447288\n",
              "67914        PRET TO GO (Terminal 1)  Abu Dhabi  327.447288\n",
              "123536                     Keway Mai  Abu Dhabi  327.447288\n",
              "142972                    La Brioche  Abu Dhabi  327.447288\n",
              "223144               White Dot Table  Abu Dhabi  327.447288"
            ]
          },
          "metadata": {
            "tags": []
          },
          "execution_count": 114
        }
      ]
    },
    {
      "cell_type": "code",
      "metadata": {
        "id": "9__Pd-Ep1TOC",
        "colab_type": "code",
        "colab": {
          "base_uri": "https://localhost:8080/",
          "height": 419
        },
        "outputId": "2f7344f5-1561-4a95-d72c-d42551b2b4f4"
      },
      "source": [
        "index_list = no_missing['avg_price']>1000\n",
        "no_missing[index_list]"
      ],
      "execution_count": 115,
      "outputs": [
        {
          "output_type": "execute_result",
          "data": {
            "text/html": [
              "<div>\n",
              "<style scoped>\n",
              "    .dataframe tbody tr th:only-of-type {\n",
              "        vertical-align: middle;\n",
              "    }\n",
              "\n",
              "    .dataframe tbody tr th {\n",
              "        vertical-align: top;\n",
              "    }\n",
              "\n",
              "    .dataframe thead th {\n",
              "        text-align: right;\n",
              "    }\n",
              "</style>\n",
              "<table border=\"1\" class=\"dataframe\">\n",
              "  <thead>\n",
              "    <tr style=\"text-align: right;\">\n",
              "      <th></th>\n",
              "      <th>name</th>\n",
              "      <th>city_name</th>\n",
              "      <th>avg_price</th>\n",
              "    </tr>\n",
              "  </thead>\n",
              "  <tbody>\n",
              "    <tr>\n",
              "      <th>247</th>\n",
              "      <td>Masterpiece clinic</td>\n",
              "      <td>Bangkok Metropolitan Region</td>\n",
              "      <td>1500.0</td>\n",
              "    </tr>\n",
              "    <tr>\n",
              "      <th>3022</th>\n",
              "      <td>J'AIME by Jean-Michel Lorain</td>\n",
              "      <td>Bangkok Metropolitan Region</td>\n",
              "      <td>1500.0</td>\n",
              "    </tr>\n",
              "    <tr>\n",
              "      <th>4798</th>\n",
              "      <td>Xin Tian Di</td>\n",
              "      <td>Bangkok Metropolitan Region</td>\n",
              "      <td>1500.0</td>\n",
              "    </tr>\n",
              "    <tr>\n",
              "      <th>5804</th>\n",
              "      <td>P10 Clinic ( Surgery Cosmetic )</td>\n",
              "      <td>Bangkok Metropolitan Region</td>\n",
              "      <td>1500.0</td>\n",
              "    </tr>\n",
              "    <tr>\n",
              "      <th>7186</th>\n",
              "      <td>THYME Eatery&amp;Bar</td>\n",
              "      <td>Bangkok Metropolitan Region</td>\n",
              "      <td>1500.0</td>\n",
              "    </tr>\n",
              "    <tr>\n",
              "      <th>...</th>\n",
              "      <td>...</td>\n",
              "      <td>...</td>\n",
              "      <td>...</td>\n",
              "    </tr>\n",
              "    <tr>\n",
              "      <th>62474</th>\n",
              "      <td>Acqua</td>\n",
              "      <td>Phuket</td>\n",
              "      <td>1500.0</td>\n",
              "    </tr>\n",
              "    <tr>\n",
              "      <th>160729</th>\n",
              "      <td>Haven Love Cake By Love Andaman</td>\n",
              "      <td>Phuket</td>\n",
              "      <td>1500.0</td>\n",
              "    </tr>\n",
              "    <tr>\n",
              "      <th>221495</th>\n",
              "      <td>Panache (Angsana Villa Reaort Phuket)</td>\n",
              "      <td>Phuket</td>\n",
              "      <td>1500.0</td>\n",
              "    </tr>\n",
              "    <tr>\n",
              "      <th>57063</th>\n",
              "      <td>Jahn restaurant @Conrad Koh samui</td>\n",
              "      <td>Surat Thani</td>\n",
              "      <td>1500.0</td>\n",
              "    </tr>\n",
              "    <tr>\n",
              "      <th>203721</th>\n",
              "      <td>WOO BAR  W Retreat Koh Samui</td>\n",
              "      <td>Surat Thani</td>\n",
              "      <td>1500.0</td>\n",
              "    </tr>\n",
              "  </tbody>\n",
              "</table>\n",
              "<p>185 rows × 3 columns</p>\n",
              "</div>"
            ],
            "text/plain": [
              "                                         name  ... avg_price\n",
              "247                        Masterpiece clinic  ...    1500.0\n",
              "3022             J'AIME by Jean-Michel Lorain  ...    1500.0\n",
              "4798                              Xin Tian Di  ...    1500.0\n",
              "5804          P10 Clinic ( Surgery Cosmetic )  ...    1500.0\n",
              "7186                         THYME Eatery&Bar  ...    1500.0\n",
              "...                                       ...  ...       ...\n",
              "62474                                   Acqua  ...    1500.0\n",
              "160729        Haven Love Cake By Love Andaman  ...    1500.0\n",
              "221495  Panache (Angsana Villa Reaort Phuket)  ...    1500.0\n",
              "57063       Jahn restaurant @Conrad Koh samui  ...    1500.0\n",
              "203721           WOO BAR  W Retreat Koh Samui  ...    1500.0\n",
              "\n",
              "[185 rows x 3 columns]"
            ]
          },
          "metadata": {
            "tags": []
          },
          "execution_count": 115
        }
      ]
    },
    {
      "cell_type": "markdown",
      "metadata": {
        "id": "L_bB6XCuAAdQ",
        "colab_type": "text"
      },
      "source": [
        "## Smooth data (binning)"
      ]
    },
    {
      "cell_type": "markdown",
      "metadata": {
        "id": "ZtOBOSlOAHol",
        "colab_type": "text"
      },
      "source": [
        "### HW10 ทำ Binning smooth by mean ค่า 'avg_price' ในตาราง no_missing (bins = 50)"
      ]
    },
    {
      "cell_type": "markdown",
      "metadata": {
        "id": "DztrrCuZAKnk",
        "colab_type": "text"
      },
      "source": [
        "\n",
        "\n",
        "## Remove Outlier (boxplot)\n",
        "## Deduplication (sampling vs PCA)\n",
        "## Data Integration (combine 2 tables vs copy some columns from another table)"
      ]
    },
    {
      "cell_type": "code",
      "metadata": {
        "id": "64a-je06xpiq",
        "colab_type": "code",
        "colab": {}
      },
      "source": [
        ""
      ],
      "execution_count": null,
      "outputs": []
    },
    {
      "cell_type": "code",
      "metadata": {
        "id": "r88P3PPCxpeJ",
        "colab_type": "code",
        "colab": {}
      },
      "source": [
        ""
      ],
      "execution_count": null,
      "outputs": []
    }
  ]
}